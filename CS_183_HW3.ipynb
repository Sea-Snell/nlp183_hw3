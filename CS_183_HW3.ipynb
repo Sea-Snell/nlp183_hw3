{
  "cells": [
    {
      "cell_type": "markdown",
      "metadata": {
        "id": "d9ZBSz63pDyJ"
      },
      "source": [
        "# 0. Setup"
      ]
    },
    {
      "cell_type": "markdown",
      "metadata": {
        "id": "sOUCNy4EpGTR"
      },
      "source": [
        "# 1. Using a Sequence Model"
      ]
    },
    {
      "cell_type": "markdown",
      "metadata": {
        "id": "xjVoXWvCuIvD"
      },
      "source": [
        "### 1.0 Setup"
      ]
    },
    {
      "cell_type": "code",
      "execution_count": null,
      "metadata": {
        "colab": {
          "base_uri": "https://localhost:8080/"
        },
        "id": "-hWpsHe72gN7",
        "outputId": "48498eae-e032-4046-9340-9988d92a8ac7"
      },
      "outputs": [],
      "source": [
        "!pip install --upgrade huggingface_hub datasets transformers"
      ]
    },
    {
      "cell_type": "code",
      "execution_count": 16,
      "metadata": {
        "id": "f6DAXfE1uIUz"
      },
      "outputs": [
        {
          "name": "stderr",
          "output_type": "stream",
          "text": [
            "None of PyTorch, TensorFlow >= 2.0, or Flax have been found. Models won't be available and only tokenizers, configuration and file/data utilities can be used.\n"
          ]
        }
      ],
      "source": [
        "import os\n",
        "os.environ[\"HF_TOKEN\"] = \"YOUR_TOKEN\"\n",
        "\n",
        "from typing import List\n",
        "from transformers import AutoModelForCausalLM, AutoTokenizer\n",
        "\n",
        "# Load tokenizer/model\n",
        "tokenizer = AutoTokenizer.from_pretrained(\"Qwen/Qwen2.5-3B\")\n",
        "# model = AutoModelForCausalLM.from_pretrained(\"Qwen/Qwen2.5-3B\")\n",
        "# model.to(\"cuda\")\n",
        "# model.eval()"
      ]
    },
    {
      "cell_type": "markdown",
      "metadata": {
        "id": "k4u9q6ywzRGI"
      },
      "source": [
        "We will use the following function to compute the next token prediction scores for a given prefix."
      ]
    },
    {
      "cell_type": "code",
      "execution_count": null,
      "metadata": {
        "id": "7Kq5v61ZzO2n"
      },
      "outputs": [],
      "source": [
        "@torch.inference_mode()\n",
        "def get_next_token_scores(prefix: str) -> List[float]:\n",
        "    \"\"\"\n",
        "    Return raw next-token scores (logits) s(* | prefix).\n",
        "    \"\"\"\n",
        "    inputs = tokenizer(prefix, return_tensors=\"pt\", add_special_tokens=True)\n",
        "    inputs = {k: v.to(model.device) for k, v in inputs.items()}\n",
        "    out = model(**inputs)\n",
        "    next_logits = out.logits[:, -1, :].squeeze(0)\n",
        "    return next_logits.detach().cpu().tolist()"
      ]
    },
    {
      "cell_type": "markdown",
      "metadata": {
        "id": "vkWILECLwngR"
      },
      "source": [
        "Here is an example of calling the function:"
      ]
    },
    {
      "cell_type": "code",
      "execution_count": null,
      "metadata": {
        "id": "wH9XvdDyvpMB"
      },
      "outputs": [],
      "source": [
        "get_next_token_scores(\"hello world\")"
      ]
    },
    {
      "cell_type": "markdown",
      "metadata": {
        "id": "OajKy3xYxDxG"
      },
      "source": [
        "For the following problems you will need to convert token indicies to string and string to token indicies. You can use the following to do that."
      ]
    },
    {
      "cell_type": "code",
      "execution_count": null,
      "metadata": {
        "id": "7rFLqhZYxPaq"
      },
      "outputs": [],
      "source": [
        "def str_to_tokens(text: str) -> List[int]:\n",
        "  return tokenizer.encode(text)\n",
        "\n",
        "def tokens_to_str(tokens: List[int]) -> str:\n",
        "  return tokenizer.decode(tokens)"
      ]
    },
    {
      "cell_type": "markdown",
      "metadata": {
        "id": "LhKQcKpgzcVP"
      },
      "source": [
        "#### Data"
      ]
    },
    {
      "cell_type": "markdown",
      "metadata": {},
      "source": [
        "We will use a set of paired sentences in Russian and English for this assignment. We will compute and compare the probabilities of sequences from both languages. We will use 60 sentences from each language."
      ]
    },
    {
      "cell_type": "code",
      "execution_count": 17,
      "metadata": {
        "colab": {
          "base_uri": "https://localhost:8080/",
          "height": 350
        },
        "id": "3tlidyCB0pya",
        "outputId": "e3ea131e-db7b-4506-fd84-e1bcb90f5baf"
      },
      "outputs": [
        {
          "name": "stderr",
          "output_type": "stream",
          "text": [
            "Using the latest cached version of the dataset since wmt/wmt19 couldn't be found on the Hugging Face Hub\n",
            "Found the latest cached dataset configuration 'ru-en' at /Users/charliesnell/.cache/huggingface/datasets/wmt___wmt19/ru-en/0.0.0/c8a87a86736e7bf10c74c22e9033eba9146774e9 (last modified on Fri Oct  3 19:02:03 2025).\n"
          ]
        }
      ],
      "source": [
        "from datasets import load_dataset\n",
        "\n",
        "# Load using the local script\n",
        "dataset = load_dataset(\"wmt/wmt19\", 'ru-en', split='validation')"
      ]
    },
    {
      "cell_type": "code",
      "execution_count": 18,
      "metadata": {},
      "outputs": [],
      "source": [
        "english_sentences, russian_sentences = zip(*[(sentence['en'], sentence['ru']) for sentence in dataset['translation'][:60]])\n"
      ]
    },
    {
      "cell_type": "code",
      "execution_count": 19,
      "metadata": {},
      "outputs": [
        {
          "data": {
            "text/plain": [
              "('Russian President Vladimir Putin has signed a law on the establishment of administrative liability for violating the deadline and procedures for payment of goods (works, services) as part of procurement for state and municipal needs.',\n",
              " 'This law is meant to solve the very serious issue of customers failing to fulfill their commitments as part of state and municipal procurements.',\n",
              " 'Just two years ago, situations in which business owners were unable to collect payment for already-executed state and municipal contracts were widespread.',\n",
              " 'At that time, the Russian president tasked the Office of Prosecutor General of the Russian Federation with taking the issue under special control.',\n",
              " 'After all, businessmen couldn’t deal on their own with dishonest customers who signed agreements without financial backing, tried their best to get out of assumed payment commitments, and included illegal conditions in agreements.',\n",
              " 'The problem was systemic throughout the entire country.',\n",
              " 'Since 2015, 9,700 petitions, in the interests of protecting the rights of business owners to receive payment for public contracts, were filed by the Office of the Prosecutor General: according to the results of their investigations, 4,500 officials were subject to disciplinary measures, and 533 were held administratively liable; 75 cases were submitted to the investigative authorities for procedural review, and criminal proceedings were initiated in 46 of them.',\n",
              " 'In sum, more than 66 billion rubles worth of debt owed to business owners was repaid.',\n",
              " 'Notably, these vast sums were by no means accrued as a result of non-payment of multibillion-ruble contracts.',\n",
              " 'Numerous systematic delays in payment for services to business owners for considerably more modest amounts led to these jaw-dropping debts.',\n",
              " 'Here is a typical case.',\n",
              " 'The head of a small company won a tender for the provision of social transport services worth several million rubles.',\n",
              " 'The person invested all of their working capital, fully satisfied their commitments, but didn’t receive the allotted money when it was due.',\n",
              " 'The result is an escalating financial snowball comprised of payroll, tax, and loan liabilities, which would have led to bankruptcy if the business owner hadn’t approached the prosecutor’s office for assistance.',\n",
              " 'Now, in a number of regions, they have managed to mitigate the problem to the greatest extent possible.',\n",
              " 'Nevertheless, as of the first half of 2017, the total amount of debt related to state and municipal contracts, identified by the prosecutors of the constituent entities of the Russian Federation, amounted to approximately 27.4 billion rubles.',\n",
              " 'In the regions where debt indicators continue to climb to critical levels, the prosecutor’s office has adopted a hands-on approach to crisis management.',\n",
              " 'The prosecutor general is personally holding on-site meetings with local officials, during which they substantively examine all of the violations uncovered by the prosecutors and the measures aimed at their immediate rectification.',\n",
              " 'This year, these types of briefing sessions have already taken place in Yaroslavl and Yekaterinburg.',\n",
              " 'The realization of Federal Law No. 189-FZ “On amending the Code of the Russian Federation on Administrative Offences in terms of establishing administrative liability for officials of a customer for violating the deadline and procedures for payment of goods (works, services) as part of procurement for state and municipal needs”, which was signed by the Russian president last week, will qualitatively improve the payment discipline of public sector customers.',\n",
              " 'The Ministry of Economic Development and Trade of the Russian Federation developed the bill at the request of the Office of the Prosecutor General.',\n",
              " 'The new law will add an article to the Code of the Russian Federation on Administrative Offences, which stipulates a penalty of between 30,000 and 50,000 rubles for violation of the deadline and procedures for payment of goods, works, or services as part of state and municipal procurements by an official of a customer.',\n",
              " 'However, if the official has already been subject to administrative punishment for a similar offense, then they will be suspended for a period of between one to two years.',\n",
              " 'All the prosecutors for the constituent entities of the Russian Federation have already received instructions to enforce the application of these legislative innovations in practice.',\n",
              " 'Civil rights group issues travel warning for Missouri',\n",
              " \"The National Association for the Advancement of Colored People has put out an alert for people of color traveling to Missouri because of the state's discriminatory policies and racist attacks.\",\n",
              " '\"The NAACP Travel Advisory for the state of Missouri, effective through August 28th, 2017, calls for African American travelers, visitors and Missourians to pay special attention and exercise extreme caution when traveling throughout the state given the series of questionable, race-based incidents occurring statewide recently, and noted therein,\" the group\\'s statement reads.',\n",
              " \"A recent Missouri law making it harder for people to win discrimination lawsuits, as well as the state's law enforcement disproportionately targeting minorities prompted the group to issue the travel alert, the NAACP said.\",\n",
              " '\"You have violations of civil rights that are happening to people.',\n",
              " 'They\\'re being pulled over because of their skin color, they\\'re being beaten up or killed,\" the president of the Missouri NAACP, Rod Chapel, told The Kansas City Star.',\n",
              " '\"We are hearing complaints at a rate we haven\\'t heard before.\"',\n",
              " 'It is the first such warning that the organization has issued for a state in the US.',\n",
              " 'The group cited incidents such as racial slurs against black students at the University of Missouri and the death of Tory Sanders, 28, a black man from Tennessee.',\n",
              " 'Sanders died under questionable circumstances earlier this year after he ran out of gas while traveling through the state, and was taken into custody by Missouri police without being accused of a crime.',\n",
              " \"The advisory also points to a recent report by the Missouri Attorney General's Office showing that black drivers in the state were 75 percent more likely to be pulled over than whites.\",\n",
              " '\"The advisory is for people to be aware, and warn their families and friends and co-workers of what could happen in Missouri,\" Chapel said.',\n",
              " '\"People need to be ready, whether it\\'s bringing bail money with them, or letting relatives know they are traveling through the state.\"',\n",
              " \"Missouri recorded 100 hate crimes in 2015, according to the latest figures from the FBI's hate crime reporting program, ranking the state at 16th in the country in terms of the number of such violations.\",\n",
              " 'The travel warning is also a response to a new Missouri law that would make it more difficult to sue a business for housing or employment discrimination.',\n",
              " 'Previously, the American Civil Liberties Union (ACLU) had issued travel advisories for Texas and Arizona after the states passed immigration enforcement laws requiring local law enforcement to detain people on immigration violations which the ACLU said would increase racial profiling.',\n",
              " 'Travel warnings are usually issued by the State Department for other countries, but lately, advocacy groups have resorted to the measure in response to certain laws and trends inside the US.',\n",
              " 'Two people have died as a result of a shooting of a police patrol in Egypt',\n",
              " 'The unidentified individuals shot at a police patrol in the Egyptian city of Esna, Reuters reports with reference to Egypt’s Ministry of Internal Affairs.',\n",
              " 'Two people, including one police officer, were killed during the shooting, and three people suffered injuries.',\n",
              " 'All the wounded were taken to hospital.',\n",
              " 'According to the agency, the police officers stopped a vehicle, at which point the two armed individuals inside of the car opened fire on the law enforcement officials.',\n",
              " 'One of the perpetrators has been apprehended, but the second managed to escape.',\n",
              " 'The Russian Federal Tourism Agency supports the law eliminating the free baggage allowance for non-refundable airline tickets',\n",
              " 'The head of the Russian Federal Tourism Agency, Oleg Safonov, said in an interview with RBK television channel that he is “in favor” of adopting a law eliminating the free baggage allowance for non-refundable airline tickets.',\n",
              " '“We need to establish conditions whereby a person who doesn’t have baggage can purchase a cheaper ticket than a person who has baggage”, he emphasized (quoted by TASS).',\n",
              " 'In addition to this, Mr. Safonov noted that, in spite of the concerns of citizens, there would be no need to pay for outerwear or mobile phones in carry-on baggage.',\n",
              " '“It would be right to reassure all our citizens and tourists and to make an announcement about this, to say that this will have nothing to do with outerwear, umbrellas, mobile phones, iPads, or even some computers”, the head of the Russian Federal Tourism Agency said.',\n",
              " 'Earlier, Russian President Vladimir Putin signed a law giving airline companies the right to eliminate the free baggage allowance rule on non-refundable airline tickets.',\n",
              " 'The point of the issue is that airline companies are free to determine the number of seats and weight of baggage at the non-refundable rate.',\n",
              " 'Vladimir Putin has ordered the cleanup of pollution in Baikal',\n",
              " 'Russian President Vladimir Putin, at a meeting concerning the protection of Baikal, reported that, over the past several years, significant areas of the lake have been subjected to extreme contamination.',\n",
              " 'He instructed that sources of financing, plans, and those responsible for implementing the cleanup of the pollution be identified.',\n",
              " 'Mr. Putin also ordered that a full-fledged reclamation of polluted areas be conducted.',\n",
              " '“It is also necessary to deal with the facilities that continue to operate here; the sewage treatment plants, the majority of them are worn-out”, RIA Novosti quotes the president as saying.',\n",
              " 'He also added that the Office of the Prosecutor General of the Russian Federation should conduct an inquiry to identify environmentally destructive activities.')"
            ]
          },
          "execution_count": 19,
          "metadata": {},
          "output_type": "execute_result"
        }
      ],
      "source": [
        "english_sentences"
      ]
    },
    {
      "cell_type": "code",
      "execution_count": 20,
      "metadata": {},
      "outputs": [
        {
          "data": {
            "text/plain": [
              "('Президент России Владимир Путин подписал закон о введении административной ответственности за нарушение срока и порядка оплаты товаров (работ, услуг) при осуществлении закупок для государственных и муниципальных нужд.',\n",
              " 'Этот закон призван решить весьма острую проблему неисполнения своих обязательств заказчиками при осуществлении государственных и муниципальных закупок.',\n",
              " 'Еще два года назад ситуация, когда предприниматели не могли получить оплату по уже исполненным государственным и муниципальным контрактам, была повсеместной.',\n",
              " 'Тогда же президент России дал поручение Генеральной прокуратуре РФ взять проблему на особый контроль.',\n",
              " 'Потому что сами бизнесмены не могли справиться с недобросовестными заказчиками, которые заключали не подкрепленные финансированием контракты, всячески пытались уклониться от взятых обязательств по оплате и включали в договоры незаконные условия.',\n",
              " 'Проблема была системной в целом в стране.',\n",
              " 'С 2015 года в интересах защиты прав предпринимателей на получение оплаты по публичным заказам прокуратурой внесено 9,7 тыс. представлений, по результатам их рассмотрения к дисциплинарной ответственности привлечено 4,5 тыс. должностных лиц, к административной - 533, в следственные органы для организации процессуальных проверок представлено 75 материалов, по 46 из них возбуждены уголовные дела.',\n",
              " 'В итоге была погашена задолженность перед предпринимателями на сумму более 66 млрд рублей.',\n",
              " 'Причем эти огромные суммы накапливались далеко не в результате неоплаты многомиллиардных контрактов.',\n",
              " 'К баснословным долгам привели многочисленные, систематические задержки по оплате услуг предпринимателям на куда более скромные суммы.',\n",
              " 'Вот характерный случай.',\n",
              " 'Руководитель небольшой компании выиграл конкурс на оказание услуг по социальным перевозкам на несколько миллионов рублей.',\n",
              " 'Человек вложил все свои оборотные средства, полностью выполнил обязательства, но положенные деньги в срок не получил.',\n",
              " 'Результат - нарастающий финансовый ком из долгов по зарплатам, налогам, кредитам, который привел бы к банкротству, если бы предприниматель не обратился за помощью в прокуратуру.',\n",
              " 'Сейчас в ряде регионов проблему удалось максимально нивелировать.',\n",
              " 'Тем не менее по состоянию на первое полугодие 2017 года совокупный объем долга по государственным и муниципальным контрактам, выявленный прокурорами субъектов Российской Федерации, составил около 27,4 млрд рублей.',\n",
              " 'В регионах, где показатели задолженности продолжают достигать критических значений, прокуратура работает в режиме ручного антикризисного управления.',\n",
              " 'Генеральный прокурор лично проводит выездные совещания с представителями местной власти, на которых предметно разбираются все вскрытые прокурорами нарушения и меры по незамедлительному их устранению.',\n",
              " 'Такие оперативные совещания в этом году уже прошли в Ярославле и Екатеринбурге.',\n",
              " 'Качественно улучшить платежную дисциплину публичных заказчиков сможет реализация Федерального закона № 189-ФЗ \"О внесении изменений в Кодекс Российской Федерации об административных правонарушениях в части установления административной ответственности должностных лиц заказчика за нарушение срока и порядка оплаты товаров (работ, услуг) при осуществлении закупок для обеспечения государственных и муниципальных нужд\", который на прошлой неделе подписал президент России.',\n",
              " 'Проект закона был разработан Минэкономразвития России по инициативе Генпрокуратуры.',\n",
              " 'Новый закон дополнит Кодекс Российской Федерации об административных правонарушениях статьей, которая предусматривает штраф от 30 тыс. до 50 тыс. рублей за нарушение должностным лицом заказчика срока и порядка оплаты товаров, работ и услуг при государственных и муниципальных закупках.',\n",
              " 'А если должностное лицо уже подвергалось административному наказанию за аналогичное правонарушение, то его ждет дисквалификация на срок от одного года до двух лет.',\n",
              " 'Все прокуроры субъектов Российской Федерации уже получили поручение обеспечить применение этих законодательных новелл на практике.',\n",
              " 'Группа защиты гражданских прав объявила предупреждение по передвижению в Миссури',\n",
              " 'Национальная ассоциация содействия прогрессу цветного населения опубликовала предупреждение для цветных людей, путешествующих в Миссури, из-за дискриминационной политики штата и нападений на расистской почве.',\n",
              " 'Заявление группы звучит так: «Предупреждение для путешествующих Национальной ассоциации содействия прогрессу цветного населения, действительное до 28 августа 2017 года, призывает афроамериканских путешествующих, гостей и граждан штата Миссури быть особенно внимательными и проявлять повышенную осторожность при путешествиях по штату в связи с рядом сомнительных происшествий на расистской почве, недавно имевших место по всей территории штата и приведённых здесь».',\n",
              " 'По словам Национальной ассоциации содействия прогрессу цветного населения, объявить предупреждение по передвижению группу побудил недавно принятый в Миссури закон, из-за которого людям стало труднее выиграть иски, связанные с дискриминацией, а также то, что правоохранительные органы штата непропорционально часто выбирают своими объектами представителей меньшинств.',\n",
              " '«У вас люди подвергаются нарушению прав человека.',\n",
              " 'Их останавливают на дорогах из-за цвета кожи, их избивают и убивают», - рассказал газете «Канзас-Сити стар» Род Чэпел, президент Национальной ассоциации содействия прогрессу цветного населения Миссури.',\n",
              " '«Мы слышим жалобы часто, как никогда раньше».',\n",
              " 'Это – первое предупреждение такого рода, объявленное организацией по отношению к штату США.',\n",
              " 'Группа сослалась на такие инциденты, как унижение чернокожих студентов по расовому признаку в Университете Миссури и смерть двадцативосьмилетнего Тори Сандерса, чернокожего мужчины из Теннесси.',\n",
              " 'Сандерс погиб при подозрительных обстоятельствах ранее в этом году после того, как у него закончился бензин во время поездки по штату, и полиция штата Миссури арестовала его, не предъявив обвинения в преступлении.',\n",
              " 'В предупреждении также упоминается недавний отчёт Генеральной прокуратуры штата Миссури, согласно которому вероятность быть остановленными на дороге для чёрных водителей на 75 процентов выше, чем для белых.',\n",
              " '«Цель предупреждения в том, чтобы люди были в курсе ситуации и предупредили своих родственников и друзей и коллег о том, что может случиться в Миссури», - сказал Чэпел.',\n",
              " '«Люди должны быть так или иначе подготовлены, возьмут ли они с собой деньги для залога или сообщат родственникам, что путешествуют по территории штата».',\n",
              " 'Согласно последним данным программы ФБР по сообщению о преступлениях на почве ненависти, в Миссури за 2015 год было зарегистрировано 100 преступлений на почве ненависти, что делает штат шестнадцатым в государстве по числу подобных нарушений.',\n",
              " 'Также предупреждение по передвижению является ответом на новый закон штата Миссури, после принятия которого будет сложнее возбудить дело против юридического лица в связи с жилищной или трудовой дискриминацией.',\n",
              " 'Ранее Американский союз защиты гражданских свобод (ACLU) объявил предупреждения для путешествующих по Техасу и Аризоне после того, как эти штаты приняли новые законы иммиграционного контроля, согласно которым местным правоохранительным органам предписывалось арестовывать людей за нарушение иммиграционных законов, что, по мнению ACLU, должно было увеличить число проверок по расовому признаку.',\n",
              " 'Предупреждения по передвижению обычно выпускаются Государственным департаментом применительно к другим странам, но в последнее время общественные организации прибегли к этой мере в ответ на определённые законы и тенденции в пределах США.',\n",
              " 'Два человека погибли в результате стрельбы по полицейскому патрулю в Египте',\n",
              " 'Неизвестные обстреляли полицейский патруль в египетском городе Исна, сообщает Reuters со ссылкой на Министерство внутренних дел Египта.',\n",
              " 'Во время перестрелки два человека, в том числе один полицейский, погибли, три человека получили ранения.',\n",
              " 'Все раненые доставлены в больницу.',\n",
              " 'По данным агентства, полицейские остановили автомобиль, после чего два находящихся в машине вооруженных человека открыли по правоохранителям огонь.',\n",
              " 'Один из злоумышленников задержан, второму удалось скрыться.',\n",
              " 'Ростуризм поддерживает закон об отмене бесплатного багажа для невозвратных авиабилетов',\n",
              " 'Глава Ростуризма Олег Сафонов заявил в интервью телеканалу РБК, что \"положительно\" относится к принятию закона об отмене бесплатного провоза багажа при невозвратных авиабилетах.',\n",
              " '\"Нужно создавать условия, при которых человек, у которого нет багажа, может купить билет дешевле, нежели тот, у которого багаж есть\", - подчеркнул он (цитата по ТАСС).',\n",
              " 'При этом господин Сафонов отметил, что, несмотря на опасения граждан, платить за провоз верхней одежды и мобильного телефона в ручной клади не придется.',\n",
              " '\"Было бы правильно успокоить всех наших граждан и туристов и заявить об этом, сказать, что это к верхней одежде, к зонтику, к мобильному телефону, к айпэду или даже какому-то компьютеру отношения иметь не будет\", - сказал глава Ростуризма.',\n",
              " 'Ранее президент России Владимир Путин подписал закон, предусматривающий право авиакомпаний исключать норму о бесплатном провозе багажа при невозвратном авиабилете.',\n",
              " 'Речь идет о том, что авиакомпании могут сами определять количество мест и вес багажа, включенных в невозвратный тариф.',\n",
              " 'Владимир Путин поручил ликвидировать загрязнения Байкала',\n",
              " 'Президент России Владимир Путин на совещании по вопросам защиты Байкала сообщил, что за последние годы значительные территории озера подверглись экстремальному загрязнению.',\n",
              " 'Он поручил определить источники финансирования, планы и исполнителей для ликвидации загрязнения.',\n",
              " 'Господин Путин также поручил провести полноценную рекультивацию загрязненных территорий.',\n",
              " '\"Необходимо разобраться и с объектами, продолжающими здесь работать, очистные сооружения большинства из них изношены\", - цитирует \"РИА Новости\" президента.',\n",
              " 'Он также добавил, что Генеральная прокуратура России должна провести проверку по выявлению экологически вредной деятельности.')"
            ]
          },
          "execution_count": 20,
          "metadata": {},
          "output_type": "execute_result"
        }
      ],
      "source": [
        "russian_sentences"
      ]
    },
    {
      "cell_type": "markdown",
      "metadata": {
        "id": "Ojim1Aeax3Hj"
      },
      "source": [
        "### 1.1 Scoring Sequences"
      ]
    },
    {
      "cell_type": "markdown",
      "metadata": {
        "id": "cK9QRLFJx-6N"
      },
      "source": [
        "You will implement a function that computes the probability p(* | prefix) over wordtypes in the vocabulary given scores, with a temperature parameter (default to 1)."
      ]
    },
    {
      "cell_type": "code",
      "execution_count": null,
      "metadata": {
        "id": "Ggzbwi3Ux74v"
      },
      "outputs": [],
      "source": [
        "def next_tok_prob(prefix: str, temperature: float):\n",
        "  pass # TODO"
      ]
    },
    {
      "cell_type": "markdown",
      "metadata": {
        "id": "1B9y_B_dyTjo"
      },
      "source": [
        "Now, you will implement a function that uses your p(* | prefix) function. to compute the negative log likelihood of a given sequence using chain rule decomposition of sequence probabilities."
      ]
    },
    {
      "cell_type": "code",
      "execution_count": null,
      "metadata": {
        "id": "bTR2XhPtybvz"
      },
      "outputs": [],
      "source": [
        "def sequence_prob(prefix: str, text: str, temperature: float):\n",
        "  pass #TODO"
      ]
    },
    {
      "cell_type": "markdown",
      "metadata": {
        "id": "kb8zY2q9yn2l"
      },
      "source": [
        "**Report** Compute negative log likelihood for all of the sequences in the dataset.\n",
        "1. The 20 sentences with the highest and lowest total negative log likelihoods across the two datasets combined.\n",
        "2. The 20 sentences with the highest and lowest total negative log likelihoods, normalized by sequence length, across the two datasets combined.\n",
        "3. What properties do high-likelihood sequences have that low-probability ones don’t?\n",
        "4. How does normalizing by sequence length influence this?"
      ]
    },
    {
      "cell_type": "markdown",
      "metadata": {},
      "source": [
        "Now we will implement a function that computes the perplexity of an entire text dataset."
      ]
    },
    {
      "cell_type": "code",
      "execution_count": null,
      "metadata": {},
      "outputs": [],
      "source": [
        "def dataset_perplexity(sentences: List[str], temperature: float):\n",
        "\tpass #TODO"
      ]
    },
    {
      "cell_type": "code",
      "execution_count": null,
      "metadata": {},
      "outputs": [],
      "source": [
        "# fill in your answers for the perplexity of the entire datasets here\n",
        "perplexity_en = None\n",
        "perplexity_ru = None\n",
        "\n",
        "with open(\"perplexities.json\", \"w\") as f:\n",
        "\tjson.dump({\"en\": perplexity_en, \"ru\": perplexity_ru}, f)"
      ]
    },
    {
      "cell_type": "markdown",
      "metadata": {},
      "source": [
        "### 1.2 Generating Sequences"
      ]
    },
    {
      "cell_type": "markdown",
      "metadata": {},
      "source": [
        "Implement a function that visualizes two statistics of a set of sequences:\n",
        "\n",
        "(a) the distribution of sequence lengths.\n",
        "\n",
        "(b) frequency-rank distributions of the wordtypes in the vocabulary for different sets of sequences."
      ]
    },
    {
      "cell_type": "code",
      "execution_count": 25,
      "metadata": {},
      "outputs": [],
      "source": [
        "from typing import List\n",
        "import matplotlib.pyplot as plt\n",
        "from collections import Counter\n",
        "\n",
        "def sequence_length_distribution(sentences: List[str]):\n",
        "\t\"\"\"Visualize the distribution of sequence lengths in a set of sentences.\"\"\"\n",
        "\t# Tokenize each sentence and get its length\n",
        "\tlengths = [len(tokenizer.encode(sentence)) for sentence in sentences]\n",
        "\t\n",
        "\t# Create histogram\n",
        "\tplt.figure(figsize=(10, 6))\n",
        "\tplt.hist(lengths, bins=30, edgecolor='black', alpha=0.7)\n",
        "\tplt.xlabel('Sequence Length (number of tokens)')\n",
        "\tplt.ylabel('Frequency')\n",
        "\tplt.title('Distribution of Sequence Lengths')\n",
        "\tplt.grid(True, alpha=0.3)\n",
        "\tplt.show()\n",
        "\t\n",
        "\t# Print statistics\n",
        "\tprint(f\"Mean length: {sum(lengths)/len(lengths):.2f}\")\n",
        "\tprint(f\"Min length: {min(lengths)}\")\n",
        "\tprint(f\"Max length: {max(lengths)}\")\n",
        "\n",
        "def frequency_rank_distribution(sentences: List[str]):\n",
        "\t\"\"\"Visualize the frequency-rank distribution of word types (Zipf's law).\"\"\"\n",
        "\t# Tokenize all sentences and count word frequencies\n",
        "\tall_tokens = []\n",
        "\tfor sentence in sentences:\n",
        "\t\ttokens = tokenizer.encode(sentence)\n",
        "\t\tall_tokens.extend(tokens)\n",
        "\t\n",
        "\t# Count token frequencies\n",
        "\ttoken_counts = Counter(all_tokens)\n",
        "\t\n",
        "\t# Sort by frequency (descending)\n",
        "\tsorted_counts = sorted(token_counts.values(), reverse=True)\n",
        "\tranks = list(range(1, len(sorted_counts) + 1))\n",
        "\t\n",
        "\t# Plot on log-log scale to show Zipf's law\n",
        "\tplt.figure(figsize=(10, 6))\n",
        "\tplt.loglog(ranks, sorted_counts, marker='o', linestyle='', alpha=0.6)\n",
        "\tplt.xlabel('Rank (log scale)')\n",
        "\tplt.ylabel('Frequency (log scale)')\n",
        "\tplt.title(\"Frequency-Rank Distribution (Zipf's Law)\")\n",
        "\tplt.grid(True, alpha=0.3)\n",
        "\t\n",
        "\t# Print statistics\n",
        "\tprint(f\"Total unique tokens: {len(token_counts)}\")\n",
        "\tprint(f\"Total tokens: {len(all_tokens)}\")\n",
        "\tprint(f\"Most common token appears {sorted_counts[0]} times\")"
      ]
    },
    {
      "cell_type": "markdown",
      "metadata": {},
      "source": [
        "Now compute these distributions for the english and russian datasets used in 1.1."
      ]
    },
    {
      "cell_type": "code",
      "execution_count": null,
      "metadata": {},
      "outputs": [
        {
          "data": {
            "image/png": "[encoded data removed]",
            "text/plain": [
              "<Figure size 1000x600 with 1 Axes>"
            ]
          },
          "metadata": {},
          "output_type": "display_data"
        },
        {
          "name": "stdout",
          "output_type": "stream",
          "text": [
            "Mean length: 31.72\n",
            "Min length: 6\n",
            "Max length: 100\n"
          ]
        },
        {
          "data": {
            "image/png": "[encoded data removed]",
            "text/plain": [
              "<Figure size 1000x600 with 1 Axes>"
            ]
          },
          "metadata": {},
          "output_type": "display_data"
        },
        {
          "name": "stdout",
          "output_type": "stream",
          "text": [
            "Mean length: 51.78\n",
            "Min length: 6\n",
            "Max length: 151\n",
            "Total unique tokens: 753\n",
            "Total tokens: 1903\n",
            "Most common token appears 115 times\n",
            "Total unique tokens: 965\n",
            "Total tokens: 3107\n",
            "Most common token appears 92 times\n"
          ]
        },
        {
          "data": {
            "image/png": "[encoded data removed]",
            "text/plain": [
              "<Figure size 1000x600 with 1 Axes>"
            ]
          },
          "metadata": {},
          "output_type": "display_data"
        },
        {
          "data": {
            "image/png": "[encoded data removed]",
            "text/plain": [
              "<Figure size 1000x600 with 1 Axes>"
            ]
          },
          "metadata": {},
          "output_type": "display_data"
        }
      ],
      "source": [
        "en_length_dist = sequence_length_distribution(english_sentences)\n",
        "ru_length_dist = sequence_length_distribution(russian_sentences)\n",
        "\n",
        "en_freq_dist = frequency_rank_distribution(english_sentences)\n",
        "ru_freq_dist = frequency_rank_distribution(russian_sentences)\n",
        "\n",
        "with open(\"length_distributions.json\", \"w\") as f:\n",
        "\tjson.dump({\"en\": en_length_dist, \"ru\": ru_length_dist}, f)\n",
        "\n",
        "with open(\"frequency_rank_distributions.json\", \"w\") as f:\n",
        "\tjson.dump({\"en\": en_freq_dist, \"ru\": ru_freq_dist}, f)"
      ]
    },
    {
      "cell_type": "markdown",
      "metadata": {},
      "source": [
        "Implement a function that uses ancestral sampling on top of p(* | prefix) to generate sequences. This function should also be able to use the temperature parameter of p(* | prefix)."
      ]
    },
    {
      "cell_type": "code",
      "execution_count": null,
      "metadata": {},
      "outputs": [],
      "source": [
        "def generate_sequence(prefix: str, temperature: float, max_length: int):\n",
        "\tpass #TODO"
      ]
    },
    {
      "cell_type": "markdown",
      "metadata": {},
      "source": [
        "Now use this function to sample 1000 texts for each temperature value in {0, 0.7, 1, 1.2} using the prefix \"hello\" and compare their length and vocabulary distributions. Why might temperature result in the observed differences?"
      ]
    },
    {
      "cell_type": "code",
      "execution_count": null,
      "metadata": {},
      "outputs": [],
      "source": [
        "length_dist_per_temp = {0.0: None, 0.7: None, 1.0: None, 1.2: None}\n",
        "vocab_dist_per_temp = {0.0: None, 0.7: None, 1.0: None, 1.2: None}\n",
        "\n",
        "# TODO sample 1000 texts for each temperature value in {0, 0.7, 1, 1.2} using the prefix \"hello\" and compare their length and vocabulary distributions. Why might temperature result in the observed differences?\n",
        "\n",
        "with open(\"length_distributions_per_temp.json\", \"w\") as f:\n",
        "\tjson.dump(length_dist_per_temp, f)\n",
        "\n",
        "with open(\"vocab_distributions_per_temp.json\", \"w\") as f:\n",
        "\tjson.dump(vocab_dist_per_temp, f)"
      ]
    },
    {
      "cell_type": "markdown",
      "metadata": {},
      "source": [
        "Implement a function that modifies and renormalizes p(* | prefix) for ϵ-sampling."
      ]
    },
    {
      "cell_type": "code",
      "execution_count": null,
      "metadata": {},
      "outputs": [],
      "source": [
        "def generate_sequence_epsilon(prefix: str, temperature: float, epsilon: float):\n",
        "\tpass #TODO"
      ]
    },
    {
      "cell_type": "markdown",
      "metadata": {},
      "source": [
        "Report Use ancestral sampling with temperature = 1 and ϵ in {0, 0.05, 0.1} to sample 1000 texts for each value of ϵ using the prefix \"hello\", and compare their length and vocabulary distributions. Why might ϵ result in the observed differences?"
      ]
    },
    {
      "cell_type": "code",
      "execution_count": null,
      "metadata": {},
      "outputs": [],
      "source": [
        "length_dist_per_epsilon = {0.0: None, 0.05: None, 0.1: None}\n",
        "vocab_dist_per_epsilon = {0.0: None, 0.05: None, 0.1: None}\n",
        "\n",
        "# TODO\n",
        "\n",
        "with open(\"length_distributions_per_epsilon.json\", \"w\") as f:\n",
        "\tjson.dump(length_dist_per_epsilon, f)\n",
        "\n",
        "with open(\"vocab_distributions_per_epsilon.json\", \"w\") as f:\n",
        "\tjson.dump(vocab_dist_per_epsilon, f)"
      ]
    },
    {
      "cell_type": "markdown",
      "metadata": {},
      "source": [
        "Implement a function that modifies and renormalizes p(* | prefix) for top-k sampling."
      ]
    },
    {
      "cell_type": "code",
      "execution_count": null,
      "metadata": {},
      "outputs": [],
      "source": [
        "def generate_sequence_top_k(prefix: str, temperature: float, top_p: float):\n",
        "\tpass #TODO"
      ]
    },
    {
      "cell_type": "markdown",
      "metadata": {},
      "source": [
        "Report Use ancestral sampling with temperature = 1 and k in {1, 20, 100} to sample 1000 texts for each value of k with the prefix \"hello\", and compare their length and vocabulary distributions. Why might k result in the observed differences?"
      ]
    },
    {
      "cell_type": "code",
      "execution_count": null,
      "metadata": {},
      "outputs": [],
      "source": [
        "length_dist_per_k = {1: None, 20: None, 100: None}\n",
        "vocab_dist_per_k = {1: None, 20: None, 100: None}\n",
        "\n",
        "# TODO\n",
        "\n",
        "with open(\"length_distributions_per_k.json\", \"w\") as f:\n",
        "\tjson.dump(length_dist_per_k, f)"
      ]
    },
    {
      "cell_type": "markdown",
      "metadata": {},
      "source": [
        "Implement a function that modifies and renormalizes p(* | prefix) for top-p (nucleus) sampling."
      ]
    },
    {
      "cell_type": "code",
      "execution_count": null,
      "metadata": {},
      "outputs": [],
      "source": [
        "def generate_sequence_top_p(prefix: str, temperature: float, top_p: float):\n",
        "\tpass #TODO"
      ]
    },
    {
      "cell_type": "markdown",
      "metadata": {},
      "source": [
        "Report Use ancestral sampling with temperature = 1 and p in {0.5, 0.9, 1.0} to sample 1000 texts for each value of p with the prefix \"hello\", and compare their length and vocabulary distributions. Why might p result in the observed differences?"
      ]
    },
    {
      "cell_type": "code",
      "execution_count": null,
      "metadata": {},
      "outputs": [],
      "source": [
        "length_dist_per_p = {0.5: None, 0.9: None, 1.0: None}\n",
        "vocab_dist_per_p = {0.5: None, 0.9: None, 1.0: None}\n",
        "\n",
        "# TODO\n",
        "\n",
        "with open(\"length_distributions_per_p.json\", \"w\") as f:\n",
        "\tjson.dump(length_dist_per_p, f)"
      ]
    },
    {
      "cell_type": "markdown",
      "metadata": {
        "id": "iBHI8n4lpKMT"
      },
      "source": [
        "# 2. Implementing sequence models"
      ]
    },
    {
      "cell_type": "markdown",
      "metadata": {
        "id": "M-jya161pmTe"
      },
      "source": [
        "### 2.0 Setup"
      ]
    },
    {
      "cell_type": "code",
      "execution_count": null,
      "metadata": {
        "id": "m9cjSjblppqT"
      },
      "outputs": [],
      "source": [
        "# This block handles some basic setup and data loading.\n",
        "# You shouldn't need to edit this, but if you want to\n",
        "# import other standard python packages, that is fine.\n",
        "\n",
        "# imports\n",
        "from collections import defaultdict, Counter\n",
        "import numpy as np\n",
        "import math\n",
        "import tqdm\n",
        "import random\n",
        "import pdb\n",
        "\n",
        "import torch\n",
        "from torch import nn\n",
        "import torch.nn.functional as F\n",
        "import torchtext.legacy as torchtext\n",
        "\n",
        "# download and load the data\n",
        "text_field = torchtext.data.Field()\n",
        "datasets = torchtext.datasets.WikiText2.splits(root='.', text_field=text_field)\n",
        "train_dataset, validation_dataset, test_dataset = datasets\n",
        "\n",
        "text_field.build_vocab(train_dataset, validation_dataset, test_dataset)\n",
        "vocab = text_field.vocab\n",
        "vocab_size = len(vocab)\n",
        "\n",
        "train_text = train_dataset.examples[0].text # a list of tokens (strings)\n",
        "validation_text = validation_dataset.examples[0].text\n",
        "\n",
        "print(\"Number of words in the vocabulary: {}\".format(vocab_size))\n",
        "print(\"Example text: {}\".format(validation_text[:30]))"
      ]
    },
    {
      "cell_type": "markdown",
      "metadata": {
        "id": "XtJeO6LgptSj"
      },
      "source": [
        "We've implemented a unigram model here as a demonstration."
      ]
    },
    {
      "cell_type": "code",
      "execution_count": null,
      "metadata": {
        "id": "CYAehtBFpuCu"
      },
      "outputs": [],
      "source": [
        "class UnigramModel:\n",
        "    def __init__(self, train_text):\n",
        "        self.counts = Counter(train_text)\n",
        "        self.total_count = len(train_text)\n",
        "\n",
        "    def probability(self, word):\n",
        "        return self.counts[word] / self.total_count\n",
        "\n",
        "    def next_word_probabilities(self, text_prefix):\n",
        "        \"\"\"Return a list of probabilities for each word in the vocabulary.\"\"\"\n",
        "        return [self.probability(word) for word in vocab.itos]\n",
        "\n",
        "    def perplexity(self, full_text):\n",
        "        \"\"\"Return the perplexity of the model on a text as a float.\n",
        "\n",
        "        full_text -- a list of string tokens\n",
        "        \"\"\"\n",
        "        log_probabilities = []\n",
        "        for word in full_text:\n",
        "            # Note that the base of the log doesn't matter\n",
        "            # as long as the log and exp use the same base.\n",
        "            log_probabilities.append(math.log(self.probability(word), 2))\n",
        "        return 2 ** -np.mean(log_probabilities)\n",
        "\n",
        "unigram_demonstration_model = UnigramModel(train_text)\n",
        "print('unigram validation perplexity:',\n",
        "      unigram_demonstration_model.perplexity(validation_text))\n",
        "\n",
        "def check_validity(model):\n",
        "    \"\"\"Performs several sanity checks on your model:\n",
        "    1) That next_word_probabilities returns a valid distribution\n",
        "    2) That perplexity matches a perplexity calculated from next_word_probabilities\n",
        "\n",
        "    Although it is possible to calculate perplexity from next_word_probabilities,\n",
        "    it is still good to have a separate more efficient method that only computes\n",
        "    the probabilities of observed words.\n",
        "    \"\"\"\n",
        "\n",
        "    log_probabilities = []\n",
        "    for i in range(10):\n",
        "        prefix = validation_text[:i]\n",
        "        probs = model.next_word_probabilities(prefix)\n",
        "        assert min(probs) >= 0, \"Negative value in next_word_probabilities\"\n",
        "        assert max(probs) <= 1 + 1e-8, \"Value larger than 1 in next_word_probabilities\"\n",
        "        assert abs(sum(probs)-1) < 1e-4, \"next_word_probabilities do not sum to 1\"\n",
        "\n",
        "        word_id = vocab.stoi[validation_text[i]]\n",
        "        selected_prob = probs[word_id]\n",
        "        log_probabilities.append(math.log(selected_prob))\n",
        "\n",
        "    perplexity = math.exp(-np.mean(log_probabilities))\n",
        "    your_perplexity = model.perplexity(validation_text[:10])\n",
        "    assert abs(perplexity-your_perplexity) < 0.1, \"your perplexity does not \" + \\\n",
        "    \"match the one we calculated from `next_word_probabilities`,\\n\" + \\\n",
        "    \"at least one of `perplexity` or `next_word_probabilities` is incorrect.\\n\" + \\\n",
        "    f\"we calcuated {perplexity} from `next_word_probabilities`,\\n\" + \\\n",
        "    f\"but your perplexity function returned {your_perplexity} (on a small sample).\"\n",
        "\n",
        "\n",
        "check_validity(unigram_demonstration_model)"
      ]
    },
    {
      "cell_type": "markdown",
      "metadata": {
        "id": "bVWpp-djpwRu"
      },
      "source": [
        "To generate from the model, we can sample one word at a time conditioning on the words we have generated so far, just like how we did in the previous part."
      ]
    },
    {
      "cell_type": "code",
      "execution_count": null,
      "metadata": {
        "id": "yV7cDfgYpygs"
      },
      "outputs": [],
      "source": [
        "# Note: the prefix tokens will be used by our trigram language model\n",
        "def generate_text(model, n=20, prefix=('<eos>', '<eos>')):\n",
        "    prefix = list(prefix)\n",
        "    for _ in range(n):\n",
        "        probs = model.next_word_probabilities(prefix)\n",
        "        word = random.choices(vocab.itos, probs)[0]\n",
        "        prefix.append(word)\n",
        "    return ' '.join(prefix)\n",
        "\n",
        "print(generate_text(unigram_demonstration_model))"
      ]
    },
    {
      "cell_type": "markdown",
      "metadata": {
        "id": "_1GdhU3Fp9wd"
      },
      "source": [
        "You will need to submit some outputs from the models you implement for us to grade. The following function will be used to generate the required output files."
      ]
    },
    {
      "cell_type": "code",
      "execution_count": null,
      "metadata": {
        "id": "0mNba0lJp_ta"
      },
      "outputs": [],
      "source": [
        "!wget https://cal-cs288.github.io/sp21/project_files/proj_1/eval_prefixes.txt\n",
        "!wget https://cal-cs288.github.io/sp21/project_files/proj_1/eval_output_vocab.txt\n",
        "!wget https://cal-cs288.github.io/sp21/project_files/proj_1/eval_prefixes_short.txt\n",
        "!wget https://cal-cs288.github.io/sp21/project_files/proj_1/eval_output_vocab_short.txt\n",
        "\n",
        "def save_truncated_distribution(model, filename, short=True):\n",
        "    \"\"\"Generate a file of truncated distributions.\n",
        "\n",
        "    Probability distributions over the full vocabulary are large,\n",
        "    so we will truncate the distribution to a smaller vocabulary.\n",
        "\n",
        "    Please do not edit this function\n",
        "    \"\"\"\n",
        "    vocab_name = 'eval_output_vocab'\n",
        "    prefixes_name = 'eval_prefixes'\n",
        "\n",
        "    if short:\n",
        "      vocab_name += '_short'\n",
        "      prefixes_name += '_short'\n",
        "\n",
        "    with open('{}.txt'.format(vocab_name), 'r') as eval_vocab_file:\n",
        "        eval_vocab = [w.strip() for w in eval_vocab_file]\n",
        "    eval_vocab_ids = [vocab.stoi[s] for s in eval_vocab]\n",
        "\n",
        "    all_selected_probabilities = []\n",
        "    with open('{}.txt'.format(prefixes_name), 'r') as eval_prefixes_file:\n",
        "        lines = eval_prefixes_file.readlines()\n",
        "        for line in tqdm.tqdm_notebook(lines, leave=False):\n",
        "            prefix = line.strip().split(' ')\n",
        "            probs = model.next_word_probabilities(prefix)\n",
        "            selected_probs = np.array([probs[i] for i in eval_vocab_ids], dtype=np.float32)\n",
        "            all_selected_probabilities.append(selected_probs)\n",
        "\n",
        "    all_selected_probabilities = np.stack(all_selected_probabilities)\n",
        "    np.save(filename, all_selected_probabilities)\n",
        "    print('saved', filename)"
      ]
    },
    {
      "cell_type": "code",
      "execution_count": null,
      "metadata": {
        "id": "o9cgtwktqCOq"
      },
      "outputs": [],
      "source": [
        "save_truncated_distribution(unigram_demonstration_model, 'unigram_demonstration_predictions.npy')"
      ]
    },
    {
      "cell_type": "markdown",
      "metadata": {
        "id": "LjR2saLqqJPX"
      },
      "source": [
        "### 2.1 N-gram Model\n",
        "\n",
        "Now it's time to implement an n-gram language model.\n",
        "\n",
        "Because not every n-gram will have been observed in training, use add-alpha smoothing to make sure no output word has probability 0.\n",
        "\n",
        "$$P(w_2|w_1)=\\frac{C(w_1,w_2)+\\alpha}{C(w_1)+\\alpha\\cdot|V|}$$\n",
        "\n",
        "where $|V|$ is the vocab size and $C$ is the count for the given bigram.  An alpha value around `3e-3`  should work.  Later, we'll replace this smoothing with model backoff. One edge case you will need to handle is at the beginning of the text where you don't have `n-1` prior words.  You can handle this however you like as long as you produce a valid probability distribution, but just using a uniform distribution over the vocabulary is reasonable for the purposes of this project.\n",
        "\n",
        "A properly implemented bi-gram model should get a perplexity below 510 on the validation set. Please note that the trigram model will probably have a very high perplexity at this point, due to sparsity issues. We'll correct this below.\n",
        "\n",
        "**Note**: Do not change the signature of the `next_word_probabilities` and `perplexity` functions.  We will use these as a common interface for all of the different model types.  Make sure these two functions call `n_gram_probability`, because later we are going to override `n_gram_probability` in a subclass.\n",
        "Also, we suggest pre-computing and caching the counts $C$ when you initialize `NGramModel` for efficiency."
      ]
    },
    {
      "cell_type": "code",
      "execution_count": null,
      "metadata": {
        "id": "_DxSP8-DqMQ1"
      },
      "outputs": [],
      "source": [
        "class NGramModel:\n",
        "    def __init__(self, train_text, n=2, alpha=3e-3):\n",
        "        # get counts and perform any other setup\n",
        "        self.n = n\n",
        "        self.smoothing = alpha\n",
        "\n",
        "        # YOUR CODE HERE\n",
        "\n",
        "        # BEGIN SOLUTION\n",
        "        pass\n",
        "\n",
        "        # END SOLUTION\n",
        "\n",
        "    def n_gram_probability(self, n_gram):\n",
        "        \"\"\"Return the probability of the last word in an n-gram.\n",
        "\n",
        "        n_gram -- a list of string tokens\n",
        "        returns the conditional probability of the last token given the rest.\n",
        "        \"\"\"\n",
        "        assert len(n_gram) == self.n\n",
        "\n",
        "        # YOUR CODE HERE\n",
        "\n",
        "        # BEGIN SOLUTION\n",
        "        pass\n",
        "\n",
        "        # END SOLUTION\n",
        "\n",
        "    def next_word_probabilities(self, text_prefix):\n",
        "        \"\"\"Return a list of probabilities for each word in the vocabulary.\"\"\"\n",
        "\n",
        "        # YOUR CODE HERE\n",
        "        # use your function n_gram_probability\n",
        "        # vocab.itos contains a list of words to return probabilities for\n",
        "\n",
        "        # BEGIN SOLUTION\n",
        "        pass\n",
        "\n",
        "        # END SOLUTION\n",
        "\n",
        "    def perplexity(self, full_text):\n",
        "        \"\"\" full_text is a list of string tokens\n",
        "        return perplexity as a float \"\"\"\n",
        "\n",
        "        # YOUR CODE HERE\n",
        "        # use your function n_gram_probability\n",
        "        # This method should differ a bit from the example unigram model because\n",
        "        # the first n-1 words of full_text must be handled as a special case.\n",
        "\n",
        "        # BEGIN SOLUTION\n",
        "        pass\n",
        "\n",
        "        # END SOLUTION\n",
        "\n",
        "unigram_model = NGramModel(train_text, 1)\n",
        "check_validity(unigram_model)\n",
        "print('unigram validation perplexity:', unigram_model.perplexity(validation_text)) # this should be the almost the same as our unigram model perplexity above\n",
        "\n",
        "bigram_model = NGramModel(train_text, n=2)\n",
        "check_validity(bigram_model)\n",
        "print('bigram validation perplexity:', bigram_model.perplexity(validation_text))\n",
        "\n",
        "trigram_model = NGramModel(train_text, n=3)\n",
        "check_validity(trigram_model)\n",
        "print('trigram validation perplexity:', trigram_model.perplexity(validation_text)) # this won't do very well...\n",
        "\n",
        "save_truncated_distribution(bigram_model, 'bigram_predictions.npy') # this might take a few minutes"
      ]
    },
    {
      "cell_type": "markdown",
      "metadata": {
        "id": "2_S5aIH0qPo_"
      },
      "source": [
        "Please download `bigram_predictions.npy` once you finish this section so that you can submit it.\n",
        "\n",
        "In the block below, please report your bigram validation perplexity.  (We will use this to help us calibrate our scoring on the test set.)"
      ]
    },
    {
      "cell_type": "markdown",
      "metadata": {
        "id": "UVvPrBWWqTfo"
      },
      "source": [
        "<!-- Do not remove this comment, it is used by the autograder: RqYJKsoTS6 -->\n",
        "\n",
        "Bigram validation perplexity: ***fill in here***"
      ]
    },
    {
      "cell_type": "markdown",
      "metadata": {
        "id": "qukgjWJHqWMx"
      },
      "source": [
        "We can also generate samples from the model to get an idea of how it is doing."
      ]
    },
    {
      "cell_type": "code",
      "execution_count": null,
      "metadata": {
        "id": "Cvylobe7qYUM"
      },
      "outputs": [],
      "source": [
        "print(generate_text(bigram_model))"
      ]
    },
    {
      "cell_type": "markdown",
      "metadata": {
        "id": "VsR8_Ch7AXAZ"
      },
      "source": [
        "We now free up some RAM, **it is important to run the cell below, otherwise you will likely run out of RAM in the Colab runtime.**"
      ]
    },
    {
      "cell_type": "code",
      "execution_count": null,
      "metadata": {
        "id": "EjKt1ncf_ypz"
      },
      "outputs": [],
      "source": [
        "# Free up some RAM.\n",
        "del bigram_model\n",
        "del trigram_model"
      ]
    },
    {
      "cell_type": "markdown",
      "metadata": {
        "id": "SWXNlsEKb3Mz"
      },
      "source": [
        "### 2.2 N-gram Backoff\n",
        "\n",
        "This basic model works okay for bigrams, but a better strategy (especially for higher-order models) is to use backoff.  Implement backoff with absolute discounting:\n",
        "$$\n",
        "\\begin{align}\n",
        "P\\left(w_i|w_{i-n+1}^{i-1}\\right)&=\\frac{max\\left\\{C(w_{i-n+1}^i)-\\delta,0\\right\\}}{\\sum_{w_i} C\\left(w_{i-n+1}^i\\right)} + \\alpha\\left(w_{i-n+1}^{i-1}\\right) P\\left(w_i|w_{i-n+2}^{i-1}\\right) \\\\\n",
        "\\alpha\\left(w_{i-n+1}^{i-1}\\right)&=\\frac{\\delta N_{1+}\\left(w_{i-n+1}^{i-1}\\right)}{{\\sum_{w_i} C\\left(w_{i-n+1}^i\\right)}}\n",
        "\\end{align}\n",
        "$$\n",
        "where $N_{1+}$ is the number of words that appear after the previous $n-1$ words (the number of times the max will select something other than 0 in the first equation).  If $\\sum_{w_i} C(w_{i-n+1}^i)=0$, use the lower order model probability directly (the above equations would have a division by 0). We found a discount $\\delta$ of 0.9 to work well based on validation performance.  A trigram model with this discount value should get a validation perplexity below 275."
      ]
    },
    {
      "cell_type": "code",
      "execution_count": null,
      "metadata": {
        "id": "BV4e4_mEc7VY"
      },
      "outputs": [],
      "source": [
        "class DiscountBackoffModel(NGramModel):\n",
        "    def __init__(self, train_text, lower_order_model, n=2, delta=0.9):\n",
        "        super().__init__(train_text, n=n)\n",
        "        self.lower_order_model = lower_order_model\n",
        "        self.discount = delta\n",
        "\n",
        "        # YOUR CODE HERE\n",
        "\n",
        "        # BEGIN SOLUTION\n",
        "        pass\n",
        "\n",
        "        # END SOLUTION\n",
        "\n",
        "    def n_gram_probability(self, n_gram):\n",
        "        assert len(n_gram) == self.n\n",
        "\n",
        "        # YOUR CODE HERE\n",
        "        # back off to the lower_order model with n'=n-1 using its n_gram_probability function\n",
        "\n",
        "        # BEGIN SOLUTION\n",
        "        pass\n",
        "\n",
        "        # END SOLUTION\n",
        "\n",
        "\n",
        "bigram_backoff_model = DiscountBackoffModel(train_text, unigram_model, 2)\n",
        "trigram_backoff_model = DiscountBackoffModel(train_text, bigram_backoff_model, 3)\n",
        "check_validity(trigram_backoff_model)\n",
        "print('trigram backoff validation perplexity:', trigram_backoff_model.perplexity(validation_text))"
      ]
    },
    {
      "cell_type": "markdown",
      "metadata": {
        "id": "LVrWYSMsBRSV"
      },
      "source": [
        "Free up RAM."
      ]
    },
    {
      "cell_type": "code",
      "execution_count": null,
      "metadata": {
        "id": "_WJe_trXBTjN"
      },
      "outputs": [],
      "source": [
        "# Release models we don't need any more.\n",
        "del unigram_model\n",
        "del bigram_backoff_model\n",
        "del trigram_backoff_model"
      ]
    },
    {
      "cell_type": "markdown",
      "metadata": {
        "id": "U5Xwrx8eO8i-"
      },
      "source": [
        "### 2.3 Smoothed N-gram Model\n",
        "\n",
        "Now, implement Kneser-Ney to replace the unigram base model.\n",
        "$$P(w)\\propto |\\{w':c(w',w) > 0\\}|$$\n",
        "A Kneser-Ney trigram model should get a validation perplexity below 260."
      ]
    },
    {
      "cell_type": "code",
      "execution_count": null,
      "metadata": {
        "id": "g35KkB5ZBUW8"
      },
      "outputs": [],
      "source": [
        "class KneserNeyBaseModel(NGramModel):\n",
        "    def __init__(self, train_text):\n",
        "        super().__init__(train_text, n=1)\n",
        "\n",
        "        # YOUR CODE HERE\n",
        "\n",
        "        # BEGIN SOLUTION\n",
        "        pass\n",
        "\n",
        "        # END SOLUTION\n",
        "\n",
        "    def n_gram_probability(self, n_gram):\n",
        "        assert len(n_gram) == 1\n",
        "\n",
        "        # YOUR CODE HERE\n",
        "\n",
        "        # BEGIN SOLUTION\n",
        "        pass\n",
        "\n",
        "        # END SOLUTION\n",
        "\n",
        "kn_base = KneserNeyBaseModel(train_text)\n",
        "check_validity(kn_base)\n",
        "bigram_kn_backoff_model = DiscountBackoffModel(train_text, kn_base, 2)\n",
        "trigram_kn_backoff_model = DiscountBackoffModel(train_text, bigram_kn_backoff_model, 3)\n",
        "print('trigram Kneser-Ney backoff validation perplexity:', trigram_kn_backoff_model.perplexity(validation_text))\n",
        "\n",
        "save_truncated_distribution(trigram_kn_backoff_model, 'trigram_kn_predictions.npy') # this might take a few minutes"
      ]
    },
    {
      "cell_type": "code",
      "execution_count": null,
      "metadata": {
        "id": "OXcHXAjL43kd"
      },
      "outputs": [],
      "source": [
        "print(generate_text(trigram_kn_backoff_model))\n",
        "print(generate_text(trigram_kn_backoff_model, prefix=['What','about']))"
      ]
    },
    {
      "cell_type": "markdown",
      "metadata": {
        "id": "DPecL2jMXQ3y"
      },
      "source": [
        "Fill in your trigram backoff perplexities with and without Kneser Ney."
      ]
    },
    {
      "cell_type": "markdown",
      "metadata": {
        "id": "AIBVAMe0WV_1"
      },
      "source": [
        "<!-- Do not remove this comment, it is used by the autograder: RqYJKsoTS6 -->\n",
        "\n",
        "Trigram backoff validation perplexity: ***fill in here***\n",
        "\n",
        "Trigram backoff with Kneser Ney perplexity: ***fill in here***"
      ]
    },
    {
      "cell_type": "markdown",
      "metadata": {
        "id": "s3TFBf1CBiwp"
      },
      "source": [
        "Free up RAM."
      ]
    },
    {
      "cell_type": "code",
      "execution_count": null,
      "metadata": {
        "id": "XGprSePzBpLW"
      },
      "outputs": [],
      "source": [
        "# Delete models we don't need.\n",
        "del kn_base\n",
        "del bigram_kn_backoff_model\n",
        "del trigram_kn_backoff_model"
      ]
    },
    {
      "cell_type": "markdown",
      "metadata": {
        "id": "fbGzQwppf9P5"
      },
      "source": [
        "If you want to learn more about n-gram language models and smoothing techniques, checkout the following paper: https://people.eecs.berkeley.edu/~klein/cs294-5/chen_goodman.pdf"
      ]
    },
    {
      "cell_type": "markdown",
      "metadata": {
        "id": "e5Y0S6XbB1iZ"
      },
      "source": [
        "### 2.4 Neural N-gram Model\n",
        "\n",
        "In this section, you will implement a neural version of an n-gram model.  The model will use a simple feedforward neural network that takes the previous `n-1` words and outputs a distribution over the next word.\n",
        "\n",
        "You will use PyTorch to implement the model.  We've provided a little bit of code to help with the data loading using PyTorch's data loaders (https://pytorch.org/docs/stable/data.html)\n",
        "\n",
        "A model with the following architecture and hyperparameters should reach a validation perplexity below 226.\n",
        "* embed the words with dimension 128, then flatten into a single embedding for $n-1$ words (with size $(n-1)*128$)\n",
        "* run 2 hidden layers with 1024 hidden units, then project down to size 128 before the final layer (ie. 4 layers total).\n",
        "* use weight tying for the embedding and final linear layer (this made a very large difference in our experiments); you can do this by creating the output layer with `nn.Linear`, then using `F.embedding` with the linear layer's `.weight` to embed the input\n",
        "* rectified linear activation (ReLU) and dropout 0.1 after first 2 hidden layers. **Note: You will likely find a performance drop if you add a nonlinear activation function after the dimension reduction layer.**\n",
        "* train for 10 epochs with the Adam optimizer (should take around 15-20 minutes)\n",
        "* do early stopping based on validation set perplexity (see HW1A)\n",
        "\n",
        "\n",
        "We encourage you to try other architectures and hyperparameters, and you will likely find some that work better than the ones listed above.  A proper implementation with these should be enough to receive full credit on the assignment, though."
      ]
    },
    {
      "cell_type": "code",
      "execution_count": null,
      "metadata": {
        "id": "jokaz820Fk1h"
      },
      "outputs": [],
      "source": [
        "def ids(tokens):\n",
        "    return [vocab.stoi[t] for t in tokens]\n",
        "\n",
        "assert torch.cuda.is_available(), \"no GPU found, in Colab go to 'Edit->Notebook settings' and choose a GPU hardware accelerator\"\n",
        "\n",
        "class NeuralNgramDataset(torch.utils.data.Dataset):\n",
        "    def __init__(self, text_token_ids, n):\n",
        "        self.text_token_ids = text_token_ids\n",
        "        self.n = n\n",
        "\n",
        "    def __len__(self):\n",
        "        return len(self.text_token_ids)\n",
        "\n",
        "    def __getitem__(self, i):\n",
        "        if i < self.n-1:\n",
        "            prev_token_ids = [vocab.stoi['<eos>']] * (self.n-i-1) + self.text_token_ids[:i]\n",
        "        else:\n",
        "            prev_token_ids = self.text_token_ids[i-self.n+1:i]\n",
        "\n",
        "        assert len(prev_token_ids) == self.n-1\n",
        "\n",
        "        x = torch.tensor(prev_token_ids)\n",
        "        y = torch.tensor(self.text_token_ids[i])\n",
        "        return x, y\n",
        "\n",
        "class NeuralNGramNetwork(nn.Module):\n",
        "    # a PyTorch Module that holds the neural network for your model\n",
        "\n",
        "    def __init__(self, n):\n",
        "        super().__init__()\n",
        "        self.n = n\n",
        "\n",
        "        # YOUR CODE HERE\n",
        "\n",
        "        # BEGIN SOLUTION\n",
        "\n",
        "        # END SOLUTION\n",
        "\n",
        "    def forward(self, x):\n",
        "        # x is a tensor of inputs with shape (batch, n-1)\n",
        "        # this function returns a tensor of log probabilities with shape (batch, vocab_size)\n",
        "\n",
        "        # YOUR CODE HERE\n",
        "\n",
        "        # BEGIN SOLUTION\n",
        "        pass\n",
        "\n",
        "        # END SOLUTION\n",
        "\n",
        "class NeuralNGramModel:\n",
        "    # a class that wraps NeuralNGramNetwork to handle training and evaluation\n",
        "    # it's ok if this doesn't work for unigram modeling\n",
        "    def __init__(self, n):\n",
        "        self.n = n\n",
        "        self.network = NeuralNGramNetwork(n).cuda()\n",
        "\n",
        "    def train(self):\n",
        "        dataset = NeuralNgramDataset(ids(train_text), self.n)\n",
        "        train_loader = torch.utils.data.DataLoader(dataset, batch_size=128, shuffle=True)\n",
        "        # iterating over train_loader with a for loop will return a 2-tuple of batched tensors\n",
        "        # the first tensor will be previous token ids with size (batch, n-1),\n",
        "        # and the second will be the current token id with size (batch, )\n",
        "        # you will need to move these tensors to GPU, e.g. by using the Tensor.cuda() function.\n",
        "\n",
        "        # this will take some time to run; use tqdm.tqdm_notebook to get a progress bar\n",
        "        # (see Project 0 for example)\n",
        "\n",
        "        # YOUR CODE HERE\n",
        "\n",
        "        # BEGIN SOLUTION\n",
        "        pass\n",
        "\n",
        "        # END SOLUTION\n",
        "\n",
        "    def next_word_probabilities(self, text_prefix):\n",
        "        # YOUR CODE HERE\n",
        "        # don't forget self.network.eval()\n",
        "        # you will need to convert text_prefix from strings to numbers with the `ids` function\n",
        "        # if your `perplexity` function below is based on a NeuralNgramDataset DataLoader, you will need to use the same strategy for prefixes with less than n-1 tokens to pass the validity check\n",
        "        #   the data loader appends extra \"<eos>\" (end of sentence) tokens to the start of the input so there are always enough to run the network\n",
        "\n",
        "        # BEGIN SOLUTION\n",
        "        pass\n",
        "\n",
        "        # END SOLUTION\n",
        "\n",
        "    def perplexity(self, text):\n",
        "        # you may want to use a DataLoader here with a NeuralNgramDataset\n",
        "        # don't forget self.network.eval()\n",
        "\n",
        "        # YOUR CODE HERE\n",
        "\n",
        "        # BEGIN SOLUTION\n",
        "        pass\n",
        "\n",
        "        # END SOLUTION\n",
        "\n",
        "\n",
        "neural_trigram_model = NeuralNGramModel(3)\n",
        "check_validity(neural_trigram_model)\n",
        "neural_trigram_model.train()\n",
        "print('neural trigram validation perplexity:', neural_trigram_model.perplexity(validation_text))\n",
        "\n",
        "save_truncated_distribution(neural_trigram_model, 'neural_trigram_predictions.npy', short=False)"
      ]
    },
    {
      "cell_type": "markdown",
      "metadata": {
        "id": "sm-xW4FGXYYi"
      },
      "source": [
        "Fill in your neural trigram perplexity."
      ]
    },
    {
      "cell_type": "markdown",
      "metadata": {
        "id": "Q0cX0k2IW88k"
      },
      "source": [
        "<!-- Do not remove this comment, it is used by the autograder: RqYJKsoTS6 -->\n",
        "\n",
        "Neural trigram validation perplexity: ***fill in here***"
      ]
    },
    {
      "cell_type": "markdown",
      "metadata": {
        "id": "8t5PCZnkB1r5"
      },
      "source": [
        "Free up RAM."
      ]
    },
    {
      "cell_type": "code",
      "execution_count": null,
      "metadata": {
        "id": "x1yH0lGOB1-S"
      },
      "outputs": [],
      "source": [
        "# Delete model we don't need.\n",
        "del neural_trigram_model"
      ]
    },
    {
      "cell_type": "markdown",
      "metadata": {
        "id": "qOp1Gb_0WjlE"
      },
      "source": [
        "### 2.5 LSTM Model\n",
        "\n",
        "For this stage of the project, you will implement an LSTM language model.\n",
        "\n",
        "For recurrent language modeling, the data batching strategy is a bit different from what is used in some other tasks.  Sentences are concatenated together so that one sentence starts right after the other, and an unfinished sentence will be continued in the next batch.  We'll use the `torchtext` library to manage this batching for you.  To properly deal with this input format, you should save the last state of the LSTM from a batch to feed in as the first state of the next batch.  When you save state across different batches, you should call `.detach()` on the state tensors before the next batch to tell PyTorch not to backpropagate gradients through the state into the batch you have already finished (which will cause a runtime error).\n",
        "\n",
        "We expect your model to reach a validation perplexity below 130.  The following architecture and hyperparameters should be sufficient to get there.\n",
        "* 3 LSTM layers with 512 units\n",
        "* dropout of 0.5 after each LSTM layer\n",
        "* instead of projecting directly from the last LSTM output to the vocabulary size for softmax, project down to a smaller size first (e.g. 512->128->vocab_size). **NOTE: You may find that adding nonlinearities between these layers can hurt performance, try without first.**\n",
        "* use the same weights for the embedding layer and the pre-softmax layer; dimension 128\n",
        "* train with Adam (using default learning rates) for at least 20 epochs\n"
      ]
    },
    {
      "cell_type": "code",
      "execution_count": null,
      "metadata": {
        "id": "0qOLXKKoc7If"
      },
      "outputs": [],
      "source": [
        "class LSTMNetwork(nn.Module):\n",
        "    # a PyTorch Module that holds the neural network for your model\n",
        "\n",
        "    def __init__(self):\n",
        "        super().__init__()\n",
        "\n",
        "        # YOUR CODE HERE\n",
        "\n",
        "        # BEGIN SOLUTION\n",
        "        pass\n",
        "\n",
        "        # END SOLUTION\n",
        "\n",
        "    def forward(self, x, state):\n",
        "        \"\"\"Compute the output of the network.\n",
        "\n",
        "        Note: In the Pytorch LSTM tutorial, the state variable is named \"hidden\":\n",
        "        https://pytorch.org/tutorials/beginner/nlp/sequence_models_tutorial.html\n",
        "\n",
        "        The torch.nn.LSTM documentation is quite helpful:\n",
        "        https://pytorch.org/docs/stable/nn.html#lstm\n",
        "\n",
        "        x - a tensor of int64 inputs with shape (seq_len, batch)\n",
        "        state - a tuple of two tensors with shape (num_layers, batch, hidden_size)\n",
        "                representing the hidden state and cell state of the of the LSTM.\n",
        "        returns a tuple with two elements:\n",
        "          - a tensor of log probabilities with shape (seq_len, batch, vocab_size)\n",
        "          - a state tuple returned by applying the LSTM.\n",
        "        \"\"\"\n",
        "\n",
        "        # Note that the nn.LSTM module expects inputs with the sequence\n",
        "        # dimension before the batch by default.\n",
        "        # In this case the dimensions are already in the right order,\n",
        "        # but watch out for this since sometimes people put the batch first\n",
        "\n",
        "        # YOUR CODE HERE\n",
        "\n",
        "        # BEGIN SOLUTION\n",
        "        pass\n",
        "\n",
        "        # END SOLUTION\n",
        "\n",
        "class LSTMModel:\n",
        "    \"A class that wraps LSTMNetwork to handle training and evaluation.\"\n",
        "\n",
        "    def __init__(self):\n",
        "        self.network = LSTMNetwork().cuda()\n",
        "\n",
        "    def train(self):\n",
        "        train_iterator = torchtext.data.BPTTIterator(train_dataset, batch_size=64,\n",
        "                                                     bptt_len=32, device='cuda')\n",
        "        # Iterate over train_iterator with a for loop to get batches\n",
        "        # each batch object has a .text and .target attribute with\n",
        "        # token id tensors for the input and output respectively.\n",
        "\n",
        "        # The initial state passed into the LSTM should be set to zero.\n",
        "\n",
        "        # YOUR CODE HERE\n",
        "\n",
        "        # BEGIN SOLUTION\n",
        "        pass\n",
        "\n",
        "        # END SOLUTION\n",
        "\n",
        "    def next_word_probabilities(self, text_prefix):\n",
        "        \"Return a list of probabilities for each word in the vocabulary.\"\n",
        "\n",
        "        prefix_token_tensor = torch.tensor(ids(text_prefix), device='cuda').view(-1, 1)\n",
        "\n",
        "        # YOUR CODE HERE\n",
        "\n",
        "        # BEGIN SOLUTION\n",
        "        pass\n",
        "\n",
        "        # END SOLUTION\n",
        "\n",
        "    def dataset_perplexity(self, torchtext_dataset):\n",
        "        \"Return perplexity as a float.\"\n",
        "        # Your code should be very similar to next_word_probabilities, but\n",
        "        # run in a loop over batches. Use torch.no_grad() for extra speed.\n",
        "\n",
        "        iterator = torchtext.data.BPTTIterator(torchtext_dataset, batch_size=64, bptt_len=32, device='cuda')\n",
        "\n",
        "        # YOUR CODE HERE\n",
        "\n",
        "        # BEGIN SOLUTION\n",
        "        pass\n",
        "\n",
        "        # END SOLUTION\n",
        "\n",
        "lstm_model = LSTMModel()\n",
        "lstm_model.train()\n",
        "\n",
        "print('lstm validation perplexity:', lstm_model.dataset_perplexity(validation_dataset))\n",
        "save_truncated_distribution(lstm_model, 'lstm_predictions.npy', short=False)"
      ]
    },
    {
      "cell_type": "markdown",
      "metadata": {
        "id": "7pGhdPQqHx9v"
      },
      "source": [
        "<!-- Do not remove this comment, it is used by the autograder: RqYJKsoTS6 -->\n",
        "\n",
        "Fill in your LSTM perplexity.\n",
        "\n",
        "LSTM validation perplexity: ***fill in here***"
      ]
    },
    {
      "cell_type": "markdown",
      "metadata": {
        "id": "kLoiXBWMaSPc"
      },
      "source": [
        "### 2.6 Experimentation\n",
        "\n",
        "Now it's time for you to experiment.  Try to reach a validation perplexity below 120. You may either modify the LSTM class above, or copy it down to the code cell below and modify it there. Just **be sure to run code cell below to generate results with your improved LSTM**.  \n",
        "\n",
        "It is okay if the bulk of your improvements are due to hyperparameter tuning (such as changing number or sizes of layers), but implement at least one more substantial change to the model.  Here are some ideas (several of which come from https://arxiv.org/pdf/1708.02182.pdf):\n",
        "* activation regularization - add a l2 regularization penalty on the activation of the LSTM output (standard l2 regularization is on the weights)\n",
        "* weight-drop regularization - apply dropout to the weight matrices instead of activations\n",
        "* learning rate scheduling - decrease the learning rate during training\n",
        "* embedding dropout - zero out the entire embedding for a random set of words in the embedding matrix\n",
        "* ensembling - average the predictions of several models trained with different initialization random seeds\n",
        "* temporal activation regularization - add l2 regularization on the difference between the LSTM output activations at adjacent timesteps\n",
        "\n",
        "You may notice that most of these suggestions are regularization techniques.  This dataset is considered fairly small, so regularization is one of the best ways to improve performance.\n"
      ]
    },
    {
      "cell_type": "markdown",
      "metadata": {
        "id": "i4fxj-BQTDgU"
      },
      "source": [
        "Run the cell below in order to train your improved LSTM and evaluate it.  "
      ]
    },
    {
      "cell_type": "code",
      "execution_count": null,
      "metadata": {
        "id": "Z_244hhNP9PO"
      },
      "outputs": [],
      "source": [
        "## Feel free to copy your original LSTM solution down here to modify for your report if you'd like.\n",
        "# YOUR CODE [optionally] HERE\n",
        "##\n",
        "\n",
        "#lstm_model = LSTMModel()\n",
        "#lstm_model.train()\n",
        "\n",
        "print('lstm validation perplexity:', lstm_model.dataset_perplexity(validation_dataset))\n",
        "save_truncated_distribution(lstm_model, 'lstm_predictions.npy', short=False)"
      ]
    },
    {
      "cell_type": "markdown",
      "metadata": {
        "id": "0BokUKhJpN5d"
      },
      "source": [
        "# 3. Acquiring and using word and sentence representations"
      ]
    },
    {
      "cell_type": "markdown",
      "metadata": {},
      "source": [
        "### 3.0 Setup"
      ]
    },
    {
      "cell_type": "code",
      "execution_count": null,
      "metadata": {},
      "outputs": [],
      "source": []
    },
    {
      "cell_type": "markdown",
      "metadata": {},
      "source": [
        "### 3.1 Text classification"
      ]
    },
    {
      "cell_type": "code",
      "execution_count": null,
      "metadata": {},
      "outputs": [],
      "source": []
    },
    {
      "cell_type": "markdown",
      "metadata": {},
      "source": [
        "### 3.2 Seq2seq with RNNs"
      ]
    },
    {
      "cell_type": "code",
      "execution_count": null,
      "metadata": {},
      "outputs": [],
      "source": []
    },
    {
      "cell_type": "markdown",
      "metadata": {
        "id": "Q9rwu_gMpSfe"
      },
      "source": [
        "# 4. Attention"
      ]
    },
    {
      "cell_type": "markdown",
      "metadata": {
        "id": "PWARYQPXsX0T"
      },
      "source": [
        "### 4.0 Setup"
      ]
    },
    {
      "cell_type": "markdown",
      "metadata": {
        "id": "c7cggO7mjZ5L"
      },
      "source": [
        "First we install and import the required dependencies. These include:\n",
        "* `torch` for modeling and training\n",
        "* `torchtext` for data collection\n",
        "* `sentencepiece` for subword tokenization\n",
        "* `sacrebleu` for BLEU score evaluation"
      ]
    },
    {
      "cell_type": "code",
      "execution_count": null,
      "metadata": {
        "execution": {
          "iopub.execute_input": "2022-02-11T16:53:01.679089Z",
          "iopub.status.busy": "2022-02-11T16:53:01.678565Z",
          "iopub.status.idle": "2022-02-11T16:54:21.861135Z",
          "shell.execute_reply": "2022-02-11T16:54:21.860352Z",
          "shell.execute_reply.started": "2022-02-11T16:53:01.679051Z"
        },
        "id": "4LV8KY6_unfe",
        "trusted": true
      },
      "outputs": [],
      "source": [
        "%%capture\n",
        "!pip install --upgrade sacrebleu sentencepiece\n",
        "!pip install torchtext==0.8.1\n",
        "\n",
        "# Standard library imports\n",
        "import json\n",
        "import math\n",
        "import random\n",
        "import pdb\n",
        "\n",
        "# Third party imports\n",
        "import matplotlib.pyplot as plt\n",
        "import numpy as np\n",
        "import sacrebleu\n",
        "import sentencepiece\n",
        "import torch\n",
        "import torch.nn as nn\n",
        "import torch.nn.functional as F\n",
        "import torchtext\n",
        "import tqdm.notebook"
      ]
    },
    {
      "cell_type": "markdown",
      "metadata": {
        "id": "KNT_TURTwIlW"
      },
      "source": [
        "Before proceeding, let's verify that we're connected to a GPU runtime and that `torch` can detect the GPU.\n",
        "We'll define a variable `device` here to use throughout the code so that we can easily change to run on CPU for debugging."
      ]
    },
    {
      "cell_type": "code",
      "execution_count": null,
      "metadata": {
        "execution": {
          "iopub.execute_input": "2022-02-11T16:54:34.536647Z",
          "iopub.status.busy": "2022-02-11T16:54:34.535901Z",
          "iopub.status.idle": "2022-02-11T16:54:34.583444Z",
          "shell.execute_reply": "2022-02-11T16:54:34.582646Z",
          "shell.execute_reply.started": "2022-02-11T16:54:34.536609Z"
        },
        "id": "KYpIPtqtwVwh",
        "trusted": true
      },
      "outputs": [],
      "source": [
        "assert torch.cuda.is_available()\n",
        "device = torch.device(\"cuda\")\n",
        "print(\"Using device:\", device)"
      ]
    },
    {
      "cell_type": "markdown",
      "metadata": {
        "id": "ANK-5cMtYSyH"
      },
      "source": [
        "#### Data"
      ]
    },
    {
      "cell_type": "markdown",
      "metadata": {
        "id": "We4sTUA5j0Ab"
      },
      "source": [
        "The data for this assignment comes from the [Multi30K dataset](https://arxiv.org/abs/1605.00459), which contains English and German captions for images from Flickr. We can download and unpack it using `torchtext`. We use the Multi30K dataset because it is simpler than standard translation benchmark datasets and allows for models to be trained and evaluated in a matter of minutes rather than days.\n",
        "\n",
        "We will be translating from German to English in this assignment, but the same techniques apply equally well to any language pair.\n",
        "\n"
      ]
    },
    {
      "cell_type": "code",
      "execution_count": null,
      "metadata": {
        "execution": {
          "iopub.execute_input": "2022-02-11T16:54:37.995552Z",
          "iopub.status.busy": "2022-02-11T16:54:37.994812Z",
          "iopub.status.idle": "2022-02-11T16:54:40.102687Z",
          "shell.execute_reply": "2022-02-11T16:54:40.101989Z",
          "shell.execute_reply.started": "2022-02-11T16:54:37.995514Z"
        },
        "id": "Gr9PbArCvCT0",
        "trusted": true
      },
      "outputs": [],
      "source": [
        "extensions = [\".de\", \".en\"]\n",
        "source_field = torchtext.data.Field(tokenize=lambda x: x)\n",
        "target_field = torchtext.data.Field(tokenize=lambda x: x)\n",
        "training_data, validation_data, test_data = torchtext.datasets.Multi30k.splits(\n",
        "    extensions, [source_field, target_field], root=\".\")"
      ]
    },
    {
      "cell_type": "markdown",
      "metadata": {
        "id": "v4aSFr-hmKpw"
      },
      "source": [
        "Now that we have the data, let's see how large each split is and look at a few examples."
      ]
    },
    {
      "cell_type": "code",
      "execution_count": null,
      "metadata": {
        "execution": {
          "iopub.execute_input": "2022-02-11T16:54:43.285455Z",
          "iopub.status.busy": "2022-02-11T16:54:43.284983Z",
          "iopub.status.idle": "2022-02-11T16:54:43.296962Z",
          "shell.execute_reply": "2022-02-11T16:54:43.295754Z",
          "shell.execute_reply.started": "2022-02-11T16:54:43.285417Z"
        },
        "id": "W1owrfI1xjby",
        "trusted": true
      },
      "outputs": [],
      "source": [
        "print(\"Number of training examples:\", len(training_data))\n",
        "print(\"Number of validation examples:\", len(validation_data))\n",
        "print(\"Number of test examples:\", len(test_data))\n",
        "print()\n",
        "\n",
        "for example in training_data[:10]:\n",
        "  print(example.src)\n",
        "  print(example.trg)\n",
        "  print()"
      ]
    },
    {
      "cell_type": "markdown",
      "metadata": {
        "id": "k1aBbR3snOjV"
      },
      "source": [
        "#### Vocabulary"
      ]
    },
    {
      "cell_type": "markdown",
      "metadata": {
        "id": "5Mo0tnIbnQz8"
      },
      "source": [
        "We can use `sentencepiece` to create a joint German-English subword vocabulary from the training corpus. Because the number of training examples is small, we choose a smaller vocabulary size than would be used for large-scale NMT."
      ]
    },
    {
      "cell_type": "code",
      "execution_count": null,
      "metadata": {
        "execution": {
          "iopub.execute_input": "2022-02-11T16:54:57.410711Z",
          "iopub.status.busy": "2022-02-11T16:54:57.40918Z",
          "iopub.status.idle": "2022-02-11T16:55:02.186524Z",
          "shell.execute_reply": "2022-02-11T16:55:02.185532Z",
          "shell.execute_reply.started": "2022-02-11T16:54:57.410677Z"
        },
        "id": "8xSUaso9vo1V",
        "trusted": true
      },
      "outputs": [],
      "source": [
        "args = {\n",
        "    \"pad_id\": 0,\n",
        "    \"bos_id\": 1,\n",
        "    \"eos_id\": 2,\n",
        "    \"unk_id\": 3,\n",
        "    \"input\": \"multi30k/train.de,multi30k/train.en\",\n",
        "    \"vocab_size\": 8000,\n",
        "    \"model_prefix\": \"multi30k\",\n",
        "}\n",
        "combined_args = \" \".join(\n",
        "    \"--{}={}\".format(key, value) for key, value in args.items())\n",
        "sentencepiece.SentencePieceTrainer.Train(combined_args)"
      ]
    },
    {
      "cell_type": "markdown",
      "metadata": {
        "id": "ox_6NYWCoydJ"
      },
      "source": [
        "This creates two files: `multi30k.model` and `multi30k.vocab`. The first is a binary file containing the relevant data for the vocabulary. The second is a human-readable listing of each subword and its associated score."
      ]
    },
    {
      "cell_type": "markdown",
      "metadata": {
        "id": "HNQVI82Lpt9S"
      },
      "source": [
        "We can preview the contents of the vocabulary by looking at the first few rows from the human-readable file."
      ]
    },
    {
      "cell_type": "code",
      "execution_count": null,
      "metadata": {
        "execution": {
          "iopub.execute_input": "2022-02-11T16:55:07.99789Z",
          "iopub.status.busy": "2022-02-11T16:55:07.997608Z",
          "iopub.status.idle": "2022-02-11T16:55:08.659461Z",
          "shell.execute_reply": "2022-02-11T16:55:08.658622Z",
          "shell.execute_reply.started": "2022-02-11T16:55:07.99786Z"
        },
        "id": "Xj-OHYlppX4N",
        "trusted": true
      },
      "outputs": [],
      "source": [
        "!head -n 30 multi30k.vocab"
      ]
    },
    {
      "cell_type": "markdown",
      "metadata": {
        "id": "TBGuw-18qjsB"
      },
      "source": [
        "As we can see, the vocabulary consists of four special tokens (`<pad>` for padding, `<s>` for beginning of sentence (BOS), `</s>` for end of sentence (EOS), `<unk>` for unknown) and a mixture of German and English words and subwords. In order to ensure reversability, word boundaries are encoded with a special unicode character \"▁\" (U+2581)."
      ]
    },
    {
      "cell_type": "markdown",
      "metadata": {
        "id": "GlBIoN4aragA"
      },
      "source": [
        "To use the vocabulary, we first need to load it from the binary file produced above."
      ]
    },
    {
      "cell_type": "code",
      "execution_count": null,
      "metadata": {
        "execution": {
          "iopub.execute_input": "2022-02-11T16:55:12.418249Z",
          "iopub.status.busy": "2022-02-11T16:55:12.417975Z",
          "iopub.status.idle": "2022-02-11T16:55:12.445914Z",
          "shell.execute_reply": "2022-02-11T16:55:12.445218Z",
          "shell.execute_reply.started": "2022-02-11T16:55:12.418221Z"
        },
        "id": "SJYzMQxfvrr0",
        "trusted": true
      },
      "outputs": [],
      "source": [
        "vocab = sentencepiece.SentencePieceProcessor()\n",
        "vocab.Load(\"multi30k.model\")"
      ]
    },
    {
      "cell_type": "markdown",
      "metadata": {
        "id": "1sLfI6vDriWK"
      },
      "source": [
        "The vocabulary object includes a number of methods for working with full sequences or individual pieces. We explore the most relevant ones below. A complete interface can be found on [GitHub](https://github.com/google/sentencepiece/tree/master/python#usage) for reference."
      ]
    },
    {
      "cell_type": "code",
      "execution_count": null,
      "metadata": {
        "execution": {
          "iopub.execute_input": "2022-02-11T16:55:31.858906Z",
          "iopub.status.busy": "2022-02-11T16:55:31.85863Z",
          "iopub.status.idle": "2022-02-11T16:55:31.871464Z",
          "shell.execute_reply": "2022-02-11T16:55:31.870505Z",
          "shell.execute_reply.started": "2022-02-11T16:55:31.858876Z"
        },
        "id": "eC4S6WBCsjOW",
        "trusted": true
      },
      "outputs": [],
      "source": [
        "print(\"Vocabulary size:\", vocab.GetPieceSize())\n",
        "print()\n",
        "\n",
        "for example in training_data[:3]:\n",
        "  sentence = example.trg\n",
        "  pieces = vocab.EncodeAsPieces(sentence)\n",
        "  indices = vocab.EncodeAsIds(sentence)\n",
        "  print(sentence)\n",
        "  print(pieces)\n",
        "  print(vocab.DecodePieces(pieces))\n",
        "  print(indices)\n",
        "  print(vocab.DecodeIds(indices))\n",
        "  print()\n",
        "\n",
        "piece = vocab.EncodeAsPieces(\"the\")[0]\n",
        "index = vocab.PieceToId(piece)\n",
        "print(piece)\n",
        "print(index)\n",
        "print(vocab.IdToPiece(index))"
      ]
    },
    {
      "cell_type": "markdown",
      "metadata": {
        "id": "qsxRb6TOVHn5"
      },
      "source": [
        "We define some constants here for the first three special tokens that you may find useful in the following sections."
      ]
    },
    {
      "cell_type": "code",
      "execution_count": null,
      "metadata": {
        "execution": {
          "iopub.execute_input": "2022-02-11T16:56:05.284445Z",
          "iopub.status.busy": "2022-02-11T16:56:05.283898Z",
          "iopub.status.idle": "2022-02-11T16:56:05.288519Z",
          "shell.execute_reply": "2022-02-11T16:56:05.287565Z",
          "shell.execute_reply.started": "2022-02-11T16:56:05.284408Z"
        },
        "id": "xheKi30BVVJC",
        "trusted": true
      },
      "outputs": [],
      "source": [
        "pad_id = vocab.PieceToId(\"<pad>\")\n",
        "bos_id = vocab.PieceToId(\"<s>\")\n",
        "eos_id = vocab.PieceToId(\"</s>\")"
      ]
    },
    {
      "cell_type": "markdown",
      "metadata": {
        "id": "hI8olw4LapHZ"
      },
      "source": [
        "Note that these tokens will be stripped from the output when converting from word pieces to text. This may be helpful when implementing greedy search and beam search."
      ]
    },
    {
      "cell_type": "code",
      "execution_count": null,
      "metadata": {
        "execution": {
          "iopub.execute_input": "2022-02-11T16:56:09.674152Z",
          "iopub.status.busy": "2022-02-11T16:56:09.673386Z",
          "iopub.status.idle": "2022-02-11T16:56:09.682714Z",
          "shell.execute_reply": "2022-02-11T16:56:09.681868Z",
          "shell.execute_reply.started": "2022-02-11T16:56:09.674104Z"
        },
        "id": "mv6i28CVa0O9",
        "trusted": true
      },
      "outputs": [],
      "source": [
        "sentence = training_data[0].trg\n",
        "indices = vocab.EncodeAsIds(sentence)\n",
        "indices_augmented = [bos_id] + indices + [eos_id, pad_id, pad_id, pad_id]\n",
        "print(vocab.DecodeIds(indices))\n",
        "print(vocab.DecodeIds(indices_augmented))\n",
        "print(vocab.DecodeIds(indices) == vocab.DecodeIds(indices_augmented))"
      ]
    },
    {
      "cell_type": "markdown",
      "metadata": {
        "id": "KiSPP3tdyaid"
      },
      "source": [
        "### 4.1 Baseline sequence-to-sequence model"
      ]
    },
    {
      "cell_type": "markdown",
      "metadata": {
        "id": "7g-Ncq5zxhvB"
      },
      "source": [
        "With our data and vocabulary loaded, we're now ready to build a baseline sequence-to-sequence model.  Later on we'll add an attention mechanism to the model."
      ]
    },
    {
      "cell_type": "markdown",
      "metadata": {
        "id": "7xIg5y_xynkU"
      },
      "source": [
        "Let's begin by defining a batch iterator for the training data. Given a dataset and a batch size, it will iterate over the dataset and yield pairs of tensors containing the subword indices for the source and target sentences in the batch, respectively.  Fill in `make_batch` below."
      ]
    },
    {
      "cell_type": "code",
      "execution_count": null,
      "metadata": {
        "execution": {
          "iopub.execute_input": "2022-02-11T16:56:32.536656Z",
          "iopub.status.busy": "2022-02-11T16:56:32.536183Z",
          "iopub.status.idle": "2022-02-11T16:56:34.768599Z",
          "shell.execute_reply": "2022-02-11T16:56:34.76789Z",
          "shell.execute_reply.started": "2022-02-11T16:56:32.536612Z"
        },
        "id": "Q-bI4Im30Ezp",
        "trusted": true
      },
      "outputs": [],
      "source": [
        "def make_batch(sentences):\n",
        "  \"\"\"Convert a list of sentences into a batch of subword indices.\n",
        "\n",
        "  Args:\n",
        "    sentences: A list of sentences, each of which is a string.\n",
        "\n",
        "  Returns:\n",
        "    A LongTensor of size (max_sequence_length, batch_size) containing the\n",
        "    subword indices for the sentences, where max_sequence_length is the length\n",
        "    of the longest sentence as encoded by the subword vocabulary and batch_size\n",
        "    is the number of sentences in the batch. A beginning-of-sentence token\n",
        "    should be included before each sequence, and an end-of-sentence token should\n",
        "    be included after each sequence. Empty slots at the end of shorter sequences\n",
        "    should be filled with padding tokens. The tensor should be located on the\n",
        "    device defined at the beginning of the notebook.\n",
        "  \"\"\"\n",
        "\n",
        "  # Implementation tip: You can use the nn.utils.rnn.pad_sequence utility\n",
        "  # function to combine a list of variable-length sequences with padding.\n",
        "\n",
        "  # YOUR CODE HERE\n",
        "  ...\n",
        "\n",
        "  # BEGIN SOLUTION\n",
        "\n",
        "  # END SOLUTION\n",
        "\n",
        "def make_batch_iterator(dataset, batch_size, shuffle=False):\n",
        "  \"\"\"Make a batch iterator that yields source-target pairs.\n",
        "\n",
        "  Args:\n",
        "    dataset: A torchtext dataset object.\n",
        "    batch_size: An integer batch size.\n",
        "    shuffle: A boolean indicating whether to shuffle the examples.\n",
        "\n",
        "  Yields:\n",
        "    Pairs of tensors constructed by calling the make_batch function on the\n",
        "    source and target sentences in the current group of examples. The max\n",
        "    sequence length can differ between the source and target tensor, but the\n",
        "    batch size will be the same. The final batch may be smaller than the given\n",
        "    batch size.\n",
        "  \"\"\"\n",
        "\n",
        "  examples = list(dataset)\n",
        "  if shuffle:\n",
        "    random.shuffle(examples)\n",
        "\n",
        "  for start_index in range(0, len(examples), batch_size):\n",
        "    example_batch = examples[start_index:start_index + batch_size]\n",
        "    source_sentences = [example.src for example in example_batch]\n",
        "    target_sentences = [example.trg for example in example_batch]\n",
        "    yield make_batch(source_sentences), make_batch(target_sentences)\n",
        "\n",
        "test_batch = make_batch([\"a test input\", \"a longer input than the first\"])\n",
        "print(\"Example batch tensor:\")\n",
        "print(test_batch)\n",
        "assert test_batch.shape[1] == 2\n",
        "assert test_batch[0, 0] == bos_id\n",
        "assert test_batch[0, 1] == bos_id\n",
        "assert test_batch[-1, 0] == pad_id\n",
        "assert test_batch[-1, 1] == eos_id"
      ]
    },
    {
      "cell_type": "markdown",
      "metadata": {
        "id": "gGIIy0230Zdc"
      },
      "source": [
        "Now we will define the model itself. It should consist of a bidirectional LSTM encoder that encodes the input sentence into a fixed-size representation, and an LSTM decoder that uses this representation to produce the output sentence."
      ]
    },
    {
      "cell_type": "code",
      "execution_count": null,
      "metadata": {
        "execution": {
          "iopub.execute_input": "2022-02-11T16:57:28.75044Z",
          "iopub.status.busy": "2022-02-11T16:57:28.75018Z",
          "iopub.status.idle": "2022-02-11T16:57:28.892809Z",
          "shell.execute_reply": "2022-02-11T16:57:28.891883Z",
          "shell.execute_reply.started": "2022-02-11T16:57:28.750412Z"
        },
        "id": "Dz3pUko2L8Fj",
        "trusted": true
      },
      "outputs": [],
      "source": [
        "class Seq2seqBaseline(nn.Module):\n",
        "  def __init__(self):\n",
        "    super().__init__()\n",
        "\n",
        "    # Initialize your model's parameters here. To get started, we suggest\n",
        "    # setting all embedding and hidden dimensions to 256, using encoder and\n",
        "    # decoder LSTMs with 2 layers, and using a dropout rate of 0.5.\n",
        "\n",
        "    # Implementation tip: To create a bidirectional LSTM, you don't need to\n",
        "    # create two LSTM networks. Instead use nn.LSTM(..., bidirectional=True).\n",
        "\n",
        "    # YOUR CODE HERE\n",
        "    ...\n",
        "\n",
        "    # BEGIN SOLUTION\n",
        "\n",
        "    # END SOLUTION\n",
        "\n",
        "  def encode(self, source):\n",
        "    \"\"\"Encode the source batch using a bidirectional LSTM encoder.\n",
        "\n",
        "    Args:\n",
        "      source: An integer tensor with shape (max_source_sequence_length,\n",
        "        batch_size) containing subword indices for the source sentences.\n",
        "\n",
        "    Returns:\n",
        "      A tuple with three elements:\n",
        "        encoder_output: The output of the bidirectional LSTM with shape\n",
        "          (max_source_sequence_length, batch_size, 2 * hidden_size).\n",
        "        encoder_mask: A boolean tensor with shape (max_source_sequence_length,\n",
        "          batch_size) indicating which encoder outputs correspond to padding\n",
        "          tokens. Its elements should be True at positions corresponding to\n",
        "          padding tokens and False elsewhere.\n",
        "        encoder_hidden: The final hidden states of the bidirectional LSTM (after\n",
        "          a suitable projection) that will be used to initialize the decoder.\n",
        "          This should be a pair of tensors (h_n, c_n), each with shape\n",
        "          (num_layers, batch_size, hidden_size). Note that the hidden state\n",
        "          returned by the LSTM cannot be used directly. Its initial dimension is\n",
        "          twice the required size because it contains state from two directions.\n",
        "\n",
        "    The first two return values are not required for the baseline model and will\n",
        "    only be used later in the attention model. If desired, they can be replaced\n",
        "    with None for the initial implementation.\n",
        "    \"\"\"\n",
        "\n",
        "    # Implementation tip: consider using packed sequences to more easily work\n",
        "    # with the variable-length sequences represented by the source tensor.\n",
        "    # See https://pytorch.org/docs/stable/nn.html#torch.nn.utils.rnn.PackedSequence.\n",
        "\n",
        "    # Implementation tip: there are many simple ways to combine the forward\n",
        "    # and backward portions of the final hidden state, e.g. addition, averaging,\n",
        "    # or a linear transformation of the appropriate size. Any of these\n",
        "    # should let you reach the required performance.\n",
        "\n",
        "    # Compute a tensor containing the length of each source sequence.\n",
        "    lengths = torch.sum(source != pad_id, axis=0)\n",
        "\n",
        "    # YOUR CODE HERE\n",
        "    ...\n",
        "\n",
        "    # BEGIN SOLUTION\n",
        "\n",
        "    # END SOLUTION\n",
        "\n",
        "  def decode(self, decoder_input, initial_hidden, encoder_output, encoder_mask):\n",
        "    \"\"\"Run the decoder LSTM starting from an initial hidden state.\n",
        "\n",
        "    The third and fourth arguments are not used in the baseline model, but are\n",
        "    included for compatibility with the attention model in the next section.\n",
        "\n",
        "    Args:\n",
        "      decoder_input: An integer tensor with shape (max_decoder_sequence_length,\n",
        "        batch_size) containing the subword indices for the decoder input. During\n",
        "        evaluation, where decoding proceeds one step at a time, the initial\n",
        "        dimension should be 1.\n",
        "      initial_hidden: A pair of tensors (h_0, c_0) representing the initial\n",
        "        state of the decoder, each with shape (num_layers, batch_size,\n",
        "        hidden_size).\n",
        "      encoder_output: The output of the encoder with shape\n",
        "        (max_source_sequence_length, batch_size, 2 * hidden_size).\n",
        "      encoder_mask: The output mask from the encoder with shape\n",
        "        (max_source_sequence_length, batch_size). Encoder outputs at positions\n",
        "        with a True value correspond to padding tokens and should be ignored.\n",
        "\n",
        "    Returns:\n",
        "      A tuple with three elements:\n",
        "        logits: A tensor with shape (max_decoder_sequence_length, batch_size,\n",
        "          vocab_size) containing unnormalized scores for the next-word\n",
        "          predictions at each position.\n",
        "        decoder_hidden: A pair of tensors (h_n, c_n) with the same shape as\n",
        "          initial_hidden representing the updated decoder state after processing\n",
        "          the decoder input.\n",
        "        attention_weights: This will be implemented later in the attention\n",
        "          model, but in order to maintain compatible type signatures, we also\n",
        "          include it here. This can be None or any other placeholder value.\n",
        "    \"\"\"\n",
        "\n",
        "    # These arguments are not used in the baseline model.\n",
        "    del encoder_output\n",
        "    del encoder_mask\n",
        "\n",
        "    # YOUR CODE HERE\n",
        "    ...\n",
        "\n",
        "    # BEGIN SOLUTION\n",
        "\n",
        "    # END SOLUTION\n",
        "\n",
        "  def compute_loss(self, source, target):\n",
        "    \"\"\"Run the model on the source and compute the loss on the target.\n",
        "\n",
        "    Args:\n",
        "      source: An integer tensor with shape (max_source_sequence_length,\n",
        "        batch_size) containing subword indices for the source sentences.\n",
        "      target: An integer tensor with shape (max_target_sequence_length,\n",
        "        batch_size) containing subword indices for the target sentences.\n",
        "\n",
        "    Returns:\n",
        "      A scalar float tensor representing cross-entropy loss on the current batch.\n",
        "    \"\"\"\n",
        "\n",
        "    # Implementation tip: don't feed the target tensor directly to the decoder.\n",
        "    # To see why, note that for a target sequence like <s> A B C </s>, you would\n",
        "    # want to run the decoder on the prefix <s> A B C and have it predict the\n",
        "    # suffix A B C </s>.\n",
        "\n",
        "    # YOUR CODE HERE\n",
        "    ...\n",
        "\n",
        "    # BEGIN SOLUTION\n",
        "\n",
        "    # END SOLUTION"
      ]
    },
    {
      "cell_type": "markdown",
      "metadata": {
        "id": "jx9jJQb58nUY"
      },
      "source": [
        "We define the following functions for training.  This code will run as provided, but you are welcome to modify the training loop to adjust the optimizer settings, add learning rate decay, etc."
      ]
    },
    {
      "cell_type": "code",
      "execution_count": null,
      "metadata": {
        "execution": {
          "iopub.execute_input": "2022-02-11T16:57:48.710174Z",
          "iopub.status.busy": "2022-02-11T16:57:48.709634Z",
          "iopub.status.idle": "2022-02-11T16:57:48.72508Z",
          "shell.execute_reply": "2022-02-11T16:57:48.724356Z",
          "shell.execute_reply.started": "2022-02-11T16:57:48.710129Z"
        },
        "id": "VKc1pwaZzcUN",
        "trusted": true
      },
      "outputs": [],
      "source": [
        "def train(model, num_epochs, batch_size, model_file):\n",
        "  \"\"\"Train the model and save its best checkpoint.\n",
        "\n",
        "  Model performance across epochs is evaluated using token-level accuracy on the\n",
        "  validation set. The best checkpoint obtained during training will be stored on\n",
        "  disk and loaded back into the model at the end of training.\n",
        "  \"\"\"\n",
        "  optimizer = torch.optim.Adam(model.parameters())\n",
        "  best_accuracy = 0.0\n",
        "  for epoch in tqdm.notebook.trange(num_epochs, desc=\"training\", unit=\"epoch\"):\n",
        "    with tqdm.notebook.tqdm(\n",
        "        make_batch_iterator(training_data, batch_size, shuffle=True),\n",
        "        desc=\"epoch {}\".format(epoch + 1),\n",
        "        unit=\"batch\",\n",
        "        total=math.ceil(len(training_data) / batch_size)) as batch_iterator:\n",
        "      model.train()\n",
        "      total_loss = 0.0\n",
        "      for i, (source, target) in enumerate(batch_iterator, start=1):\n",
        "        optimizer.zero_grad()\n",
        "        loss = model.compute_loss(source, target)\n",
        "        total_loss += loss.item()\n",
        "        loss.backward()\n",
        "        optimizer.step()\n",
        "        batch_iterator.set_postfix(mean_loss=total_loss / i)\n",
        "      validation_perplexity, validation_accuracy = evaluate_next_token(\n",
        "          model, validation_data)\n",
        "      batch_iterator.set_postfix(\n",
        "          mean_loss=total_loss / i,\n",
        "          validation_perplexity=validation_perplexity,\n",
        "          validation_token_accuracy=validation_accuracy)\n",
        "      if validation_accuracy > best_accuracy:\n",
        "        print(\n",
        "            \"Obtained a new best validation accuracy of {:.2f}, saving model \"\n",
        "            \"checkpoint to {}...\".format(validation_accuracy, model_file))\n",
        "        torch.save(model.state_dict(), model_file)\n",
        "        best_accuracy = validation_accuracy\n",
        "  print(\"Reloading best model checkpoint from {}...\".format(model_file))\n",
        "  model.load_state_dict(torch.load(model_file))\n",
        "\n",
        "def evaluate_next_token(model, dataset, batch_size=64):\n",
        "  \"\"\"Compute token-level perplexity and accuracy metrics.\n",
        "\n",
        "  Note that the perplexity here is over subwords, not words.\n",
        "\n",
        "  This function is used for validation set evaluation at the end of each epoch\n",
        "  and should not be modified.\n",
        "  \"\"\"\n",
        "  model.eval()\n",
        "  total_cross_entropy = 0.0\n",
        "  total_predictions = 0\n",
        "  correct_predictions = 0\n",
        "  with torch.no_grad():\n",
        "    for source, target in make_batch_iterator(dataset, batch_size):\n",
        "      encoder_output, encoder_mask, encoder_hidden = model.encode(source)\n",
        "      decoder_input, decoder_target = target[:-1], target[1:]\n",
        "      logits, decoder_hidden, attention_weights = model.decode(\n",
        "          decoder_input, encoder_hidden, encoder_output, encoder_mask)\n",
        "      total_cross_entropy += F.cross_entropy(\n",
        "          logits.permute(1, 2, 0), decoder_target.permute(1, 0),\n",
        "          ignore_index=pad_id, reduction=\"sum\").item()\n",
        "      total_predictions += (decoder_target != pad_id).sum().item()\n",
        "      correct_predictions += (\n",
        "          (decoder_target != pad_id) &\n",
        "          (decoder_target == logits.argmax(2))).sum().item()\n",
        "  perplexity = math.exp(total_cross_entropy / total_predictions)\n",
        "  accuracy = 100 * correct_predictions / total_predictions\n",
        "  return perplexity, accuracy"
      ]
    },
    {
      "cell_type": "markdown",
      "metadata": {
        "id": "GZYFBChe8-2F"
      },
      "source": [
        "We can now train the baseline model.\n",
        "\n",
        "Since we haven't yet defined a decoding method to output an entire string, we will measure performance for now by computing perplexity and the accuracy of predicting the next token given a gold prefix of the output. A correct implementation should get a validation token accuracy above 55%. The training code will automatically save the model with the highest validation accuracy and reload that checkpoint's parameters at the end of training."
      ]
    },
    {
      "cell_type": "code",
      "execution_count": null,
      "metadata": {
        "execution": {
          "iopub.execute_input": "2022-02-11T17:10:55.401569Z",
          "iopub.status.busy": "2022-02-11T17:10:55.401311Z",
          "iopub.status.idle": "2022-02-11T17:17:17.185914Z",
          "shell.execute_reply": "2022-02-11T17:17:17.185002Z",
          "shell.execute_reply.started": "2022-02-11T17:10:55.40154Z"
        },
        "id": "thNLsZ04Z0A-",
        "trusted": true
      },
      "outputs": [],
      "source": [
        "# You are welcome to adjust these parameters based on your model implementation.\n",
        "num_epochs = 10\n",
        "batch_size = 16\n",
        "\n",
        "baseline_model = Seq2seqBaseline().to(device)\n",
        "train(baseline_model, num_epochs, batch_size, \"baseline_model.pt\")"
      ]
    },
    {
      "cell_type": "markdown",
      "metadata": {
        "id": "wzRIg471LlFW"
      },
      "source": [
        "**Download your baseline model here.** Once you have a model you are happy with, you are encouraged to download it or save it to your Google Drive in case your session disconnects. The best baseline model has been saved to `baseline_model.pt` in the local filesystem. You will need a trained model while implementing inference below and to generate your final predictions. To download session files from Collab."
      ]
    },
    {
      "cell_type": "markdown",
      "metadata": {
        "id": "QO5Saz-KQ9Cg"
      },
      "source": [
        "For evaluation, we also need to be able to generate entire strings from the model. We'll first define a greedy inference procedure here. Later on, we'll implement beam search.\n",
        "\n",
        "A correct implementation of greedy decoding should get above 20 BLEU on the validation set."
      ]
    },
    {
      "cell_type": "code",
      "execution_count": null,
      "metadata": {
        "execution": {
          "iopub.execute_input": "2022-02-11T17:17:34.542652Z",
          "iopub.status.busy": "2022-02-11T17:17:34.542399Z",
          "iopub.status.idle": "2022-02-11T17:17:35.386175Z",
          "shell.execute_reply": "2022-02-11T17:17:35.38466Z",
          "shell.execute_reply.started": "2022-02-11T17:17:34.542624Z"
        },
        "id": "dXG0VTLvRvzp",
        "trusted": true
      },
      "outputs": [],
      "source": [
        "def predict_greedy(model, sentences, max_length=100):\n",
        "  \"\"\"Make predictions for the given inputs using greedy inference.\n",
        "\n",
        "  Args:\n",
        "    model: A sequence-to-sequence model.\n",
        "    sentences: A list of input sentences, represented as strings.\n",
        "    max_length: The maximum length at which to truncate outputs in order to\n",
        "      avoid non-terminating inference.\n",
        "\n",
        "  Returns:\n",
        "    A list of predicted translations, represented as strings.\n",
        "  \"\"\"\n",
        "\n",
        "  # Requirement: your implementation must be batched. This means that you should\n",
        "  # make only one call to model.encode() at the start of the function, and make\n",
        "  # only one call to model.decode() per inference step.\n",
        "\n",
        "  # Implementation tip: once an EOS token has been generated, force the output\n",
        "  # for that example to be padding tokens in all subsequent time steps by\n",
        "  # adding a large positive number like 1e9 to the appropriate logits.\n",
        "\n",
        "  # YOUR CODE HERE\n",
        "  ...\n",
        "\n",
        "  # BEGIN SOLUTION\n",
        "\n",
        "  # END SOLUTION\n",
        "\n",
        "def evaluate(model, dataset, batch_size=64, method=\"greedy\"):\n",
        "  assert method in {\"greedy\", \"beam\"}\n",
        "  source_sentences = [example.src for example in dataset]\n",
        "  target_sentences = [example.trg for example in dataset]\n",
        "  model.eval()\n",
        "  predictions = []\n",
        "  with torch.no_grad():\n",
        "    for start_index in range(0, len(source_sentences), batch_size):\n",
        "      if method == \"greedy\":\n",
        "        prediction_batch = predict_greedy(\n",
        "            model, source_sentences[start_index:start_index + batch_size])\n",
        "      else:\n",
        "        prediction_batch = predict_beam(\n",
        "            model, source_sentences[start_index:start_index + batch_size])\n",
        "        prediction_batch = [candidates[0] for candidates in prediction_batch]\n",
        "      predictions.extend(prediction_batch)\n",
        "  return sacrebleu.corpus_bleu(predictions, [target_sentences]).score\n",
        "\n",
        "print(\"Baseline model validation BLEU using greedy search:\",\n",
        "      evaluate(baseline_model, validation_data))"
      ]
    },
    {
      "cell_type": "code",
      "execution_count": null,
      "metadata": {
        "execution": {
          "iopub.execute_input": "2022-02-11T17:00:48.734667Z",
          "iopub.status.busy": "2022-02-11T17:00:48.734123Z",
          "iopub.status.idle": "2022-02-11T17:00:48.798028Z",
          "shell.execute_reply": "2022-02-11T17:00:48.796906Z",
          "shell.execute_reply.started": "2022-02-11T17:00:48.734625Z"
        },
        "id": "BoevlyGGF8Bs",
        "trusted": true
      },
      "outputs": [],
      "source": [
        "def show_predictions(model, num_examples=4, include_beam=False):\n",
        "  for example in validation_data[:num_examples]:\n",
        "    print(\"Input:\")\n",
        "    print(\" \", example.src)\n",
        "    print(\"Target:\")\n",
        "    print(\" \", example.trg)\n",
        "    print(\"Greedy prediction:\")\n",
        "    print(\" \", predict_greedy(model, [example.src])[0])\n",
        "    if include_beam:\n",
        "      print(\"Beam predictions:\")\n",
        "      for candidate in predict_beam(model, [example.src])[0]:\n",
        "        print(\" \", candidate)\n",
        "    print()\n",
        "\n",
        "print(\"Baseline model sample predictions:\")\n",
        "print()\n",
        "show_predictions(baseline_model)"
      ]
    },
    {
      "cell_type": "markdown",
      "metadata": {
        "id": "vb7NfD4BD7I_"
      },
      "source": [
        "### 4.2 Sequence-to-sequence model with attention"
      ]
    },
    {
      "cell_type": "markdown",
      "metadata": {
        "id": "9SNJwlAO9N0k"
      },
      "source": [
        "Next, we extend the baseline model to include an attention mechanism in the decoder. This circumvents the need to store all information about the source sentence in a fixed-size representation, and should substantially improve performance and convergence time.\n",
        "\n",
        "Your implementation should use bilinear attention, where the attention distribution over the encoder outputs $e_1, \\dots, e_n$ given a decoder LSTM output $d$ is obtained via a softmax of the dot products after a suitable projection to get them to the same size: $w_i \\propto \\exp ( d^\\top W e_i )$. The unnormalized attention logits for encoder outputs corresponding to padding tokens should be offset with a large negative value to ensure that the corresponding attention weights are $0$.\n",
        "\n",
        "After computing the attention distribution, take a weighted sum of the projected encoder outputs to obtain the attention context $c = \\sum_i w_i We_i$, and add this to the decoder output $d$ to obtain the final representation to be passed to the vocabulary projection layer."
      ]
    },
    {
      "cell_type": "code",
      "execution_count": null,
      "metadata": {
        "execution": {
          "iopub.execute_input": "2022-02-11T17:00:53.912668Z",
          "iopub.status.busy": "2022-02-11T17:00:53.912398Z",
          "iopub.status.idle": "2022-02-11T17:00:53.922526Z",
          "shell.execute_reply": "2022-02-11T17:00:53.921731Z",
          "shell.execute_reply.started": "2022-02-11T17:00:53.912632Z"
        },
        "id": "0uI8j0Sa-gNa",
        "trusted": true
      },
      "outputs": [],
      "source": [
        "class Seq2seqAttention(Seq2seqBaseline):\n",
        "  def __init__(self):\n",
        "    super().__init__()\n",
        "\n",
        "    # Initialize any additional parameters needed for this model that are not\n",
        "    # already included in the baseline model.\n",
        "\n",
        "    # YOUR CODE HERE\n",
        "    ...\n",
        "\n",
        "    # BEGIN SOLUTION\n",
        "\n",
        "    # END SOLUTION\n",
        "\n",
        "  def decode(self, decoder_input, initial_hidden, encoder_output, encoder_mask):\n",
        "    \"\"\"Run the decoder LSTM starting from an initial hidden state.\n",
        "\n",
        "    The third and fourth arguments are not used in the baseline model, but are\n",
        "    included for compatibility with the attention model in the next section.\n",
        "\n",
        "    Args:\n",
        "      decoder_input: An integer tensor with shape (max_decoder_sequence_length,\n",
        "        batch_size) containing the subword indices for the decoder input. During\n",
        "        evaluation, where decoding proceeds one step at a time, the initial\n",
        "        dimension should be 1.\n",
        "      initial_hidden: A pair of tensors (h_0, c_0) representing the initial\n",
        "        state of the decoder, each with shape (num_layers, batch_size,\n",
        "        hidden_size).\n",
        "      encoder_output: The output of the encoder with shape\n",
        "        (max_source_sequence_length, batch_size, 2 * hidden_size).\n",
        "      encoder_mask: The output mask from the encoder with shape\n",
        "        (max_source_sequence_length, batch_size). Encoder outputs at positions\n",
        "        with a True value correspond to padding tokens and should be ignored.\n",
        "\n",
        "    Returns:\n",
        "      A tuple with three elements:\n",
        "        logits: A tensor with shape (max_decoder_sequence_length, batch_size,\n",
        "          vocab_size) containing unnormalized scores for the next-word\n",
        "          predictions at each position.\n",
        "        decoder_hidden: A pair of tensors (h_n, c_n) with the same shape as\n",
        "          initial_hidden representing the updated decoder state after processing\n",
        "          the decoder input.\n",
        "        attention_weights: A tensor with shape (max_decoder_sequence_length,\n",
        "          batch_size, max_source_sequence_length) representing the normalized\n",
        "          attention weights. This should sum to 1 along the last dimension.\n",
        "    \"\"\"\n",
        "\n",
        "    # Implementation tip: use a large negative number like -1e9 instead of\n",
        "    # float(\"-inf\") when masking logits to avoid numerical issues.\n",
        "\n",
        "    # Implementation tip: the function torch.einsum may be useful here.\n",
        "    # See https://rockt.github.io/2018/04/30/einsum for a tutorial.\n",
        "\n",
        "    # YOUR CODE HERE\n",
        "    ...\n",
        "\n",
        "    # BEGIN SOLUTION\n",
        "\n",
        "    # END SOLUTION"
      ]
    },
    {
      "cell_type": "markdown",
      "metadata": {
        "id": "wgHYmMDR9lAd"
      },
      "source": [
        "As before, we can train an attention model using the provided training code.\n",
        "\n",
        "A correct implementation should get a validation token accuracy above 64 and a validation BLEU above 36 with greedy search."
      ]
    },
    {
      "cell_type": "code",
      "execution_count": null,
      "metadata": {
        "execution": {
          "iopub.execute_input": "2022-02-11T17:03:49.338267Z",
          "iopub.status.busy": "2022-02-11T17:03:49.337985Z",
          "iopub.status.idle": "2022-02-11T17:10:44.602136Z",
          "shell.execute_reply": "2022-02-11T17:10:44.601381Z",
          "shell.execute_reply.started": "2022-02-11T17:03:49.338236Z"
        },
        "id": "0YvMnDHxJOZv",
        "trusted": true
      },
      "outputs": [],
      "source": [
        "# You are welcome to adjust these parameters based on your model implementation.\n",
        "num_epochs = 10\n",
        "batch_size = 16\n",
        "\n",
        "attention_model = Seq2seqAttention().to(device)\n",
        "train(attention_model, num_epochs, batch_size, \"attention_model.pt\")\n",
        "print(\"Attention model validation BLEU using greedy search:\",\n",
        "      evaluate(attention_model, validation_data))"
      ]
    },
    {
      "cell_type": "markdown",
      "metadata": {
        "id": "Ey4qZ_U4bcFF"
      },
      "source": [
        "**Download your attention model here.** Once you have a model you are happy with, you are encouraged to download it or save it to your Google Drive in case your session disconnects. The best attention model has been saved to `attention_model.pt` in the local filesystem. You will need a trained model while implementing beam search below and to generate your final predictions."
      ]
    },
    {
      "cell_type": "code",
      "execution_count": null,
      "metadata": {
        "id": "U2dWb-JrA2bR"
      },
      "outputs": [],
      "source": [
        "print(\"Attention model validation BLEU using greedy search:\",\n",
        "      evaluate(attention_model, validation_data))\n",
        "print()\n",
        "print(\"Attention model sample predictions:\")\n",
        "print()\n",
        "show_predictions(attention_model)"
      ]
    },
    {
      "cell_type": "markdown",
      "metadata": {
        "id": "u15C5gGLMVSa"
      },
      "source": [
        "# 5. Extra Credit: Beam Search"
      ]
    },
    {
      "cell_type": "markdown",
      "metadata": {
        "id": "R7I01Tl1MYR9"
      },
      "source": [
        "For extra credit, let's implement beam search.\n",
        "\n",
        "Similar to greedy search, beam search generates one token at a time. However, rather than keeping only the single best hypothesis, we instead keep the top $k$ candidates at each time step. This is accomplished by computing the set of next-token extensions for each item on the beam and finding the top $k$ across all candidates according to total log-probability.\n",
        "\n",
        "Candidates that are finished should stay on the beam through the end of inference. The search process concludes once all $k$ items on the beam are complete.\n",
        "\n",
        "With beam search, you should get an improvement of at least 0.5 BLEU over greedy search, and should reach above 21 BLEU without attention and above 37 BLEU with attention.\n",
        "\n",
        "**Tips:**\n",
        "\n",
        "1) A good general strategy when doing complex code like this is to carefully annotate each line with a comment saying what each dimension represents.\n",
        "\n",
        "2) You should only need one call to topk per step. You do not need to have a topk just over vocabulary first, you can directly go from vocab_size*beam_size to beam_size items.\n",
        "\n",
        "3) Be sure you are correctly keeping track of which beam item a candidate is selected from and updating the beam states, such as LSTM hidden state, accordingly. A single state from the previous time step may need to be used for multiple new beam items or not at all. This includes all state associated with a beam, including all past tokens output by the beam and any extra tensors such as ones remembering when a beam is finished.\n",
        "\n",
        "4) Pay attention to how you interleave things when using a single dimension to represent multiple things.  It will make a difference when you start reshaping to separate them out.  It may be easier to start with everything separate, then temporarily combine as needed.\n",
        "\n",
        "5) For efficiency, we suggest that you implement all beam manipulations using batched PyTorch computations rather than Python for-loops.\n",
        "\n",
        "6) Once an EOS token has been generated, force the output for that candidate to be padding tokens in all subsequent time steps by adding a large positive number like 1e9 to the appropriate logits. This will ensure that the candidate stays on the beam, as its probability will be very close to 1 and its score will effectively remain the same as when it was first completed.  All other (invalid) token continuations will have extremely low log probability and will not make it onto the beam.\n",
        "\n",
        "7) While you are encouraged to keep your tensor dimensions constant for simplicity (aside from the sequence length), some special care will need to be taken on the first iteration to ensure that your beam doesn't fill up with k identical copies of the same candidate.\n"
      ]
    },
    {
      "cell_type": "code",
      "execution_count": null,
      "metadata": {
        "execution": {
          "iopub.execute_input": "2022-02-11T17:18:08.323544Z",
          "iopub.status.busy": "2022-02-11T17:18:08.32329Z",
          "iopub.status.idle": "2022-02-11T17:18:11.003734Z",
          "shell.execute_reply": "2022-02-11T17:18:11.003018Z",
          "shell.execute_reply.started": "2022-02-11T17:18:08.323516Z"
        },
        "id": "-n3h47bJ8sz-",
        "trusted": true
      },
      "outputs": [],
      "source": [
        "def predict_beam(model, sentences, k=5, max_length=100):\n",
        "  \"\"\"Make predictions for the given inputs using beam search.\n",
        "\n",
        "  Args:\n",
        "    model: A sequence-to-sequence model.\n",
        "    sentences: A list of input sentences, represented as strings.\n",
        "    k: The size of the beam.\n",
        "    max_length: The maximum length at which to truncate outputs in order to\n",
        "      avoid non-terminating inference.\n",
        "\n",
        "  Returns:\n",
        "    A list of beam predictions. Each element in the list should be a list of k\n",
        "    strings corresponding to the top k predictions for the corresponding input,\n",
        "    sorted in descending order by score.\n",
        "  \"\"\"\n",
        "\n",
        "  # Requirement: your implementation must be batched. This means that you should\n",
        "  # make only one call to model.encode() at the start of the function, and make\n",
        "  # only one call to model.decode() per inference step.\n",
        "\n",
        "  # Does top-k return relative ordering, if not how to return at end of method?\n",
        "  # EOS candidate getting knocked.\n",
        "\n",
        "  # YOUR CODE HERE\n",
        "  ...\n",
        "\n",
        "  # BEGIN SOLUTION\n",
        "\n",
        "  # END SOLUTION\n",
        "\n",
        "print(\"Baseline model validation BLEU using beam search:\",\n",
        "      evaluate(baseline_model, validation_data, method=\"beam\"))\n",
        "print()\n",
        "print(\"Baseline model sample predictions:\")\n",
        "print()\n",
        "show_predictions(baseline_model, include_beam=True)"
      ]
    },
    {
      "cell_type": "code",
      "execution_count": null,
      "metadata": {
        "id": "Y1XCU1CNtupU"
      },
      "outputs": [],
      "source": [
        "print(\"Attention model validation BLEU using beam search:\",\n",
        "      evaluate(attention_model, validation_data, method=\"beam\"))\n",
        "print()\n",
        "print(\"Attention model sample predictions:\")\n",
        "print()\n",
        "show_predictions(attention_model, include_beam=True)"
      ]
    }
  ],
  "metadata": {
    "colab": {
      "provenance": []
    },
    "kernelspec": {
      "display_name": "hw3",
      "language": "python",
      "name": "python3"
    },
    "language_info": {
      "codemirror_mode": {
        "name": "ipython",
        "version": 3
      },
      "file_extension": ".py",
      "mimetype": "text/x-python",
      "name": "python",
      "nbconvert_exporter": "python",
      "pygments_lexer": "ipython3",
      "version": "3.10.18"
    }
  },
  "nbformat": 4,
  "nbformat_minor": 0
}
